{
  "nbformat": 4,
  "nbformat_minor": 0,
  "metadata": {
    "colab": {
      "name": "notebookc80a383385.ipynb",
      "provenance": [],
      "collapsed_sections": [],
      "toc_visible": true,
      "include_colab_link": true
    },
    "kernelspec": {
      "display_name": "Python 3",
      "language": "python",
      "name": "python3"
    },
    "language_info": {
      "codemirror_mode": {
        "name": "ipython",
        "version": 3
      },
      "file_extension": ".py",
      "mimetype": "text/x-python",
      "name": "python",
      "nbconvert_exporter": "python",
      "pygments_lexer": "ipython3",
      "version": "3.7.6"
    }
  },
  "cells": [
    {
      "cell_type": "markdown",
      "metadata": {
        "id": "view-in-github",
        "colab_type": "text"
      },
      "source": [
        "<a href=\"https://colab.research.google.com/github/annyfan/550/blob/master/notebookc80a383385.ipynb\" target=\"_parent\"><img src=\"https://colab.research.google.com/assets/colab-badge.svg\" alt=\"Open In Colab\"/></a>"
      ]
    },
    {
      "cell_type": "code",
      "metadata": {
        "id": "UEBZVPWyWxPi"
      },
      "source": [
        "# Imports\n",
        "import os\n",
        "import tensorflow as tf\n",
        "import numpy as np\n",
        "import random\n",
        "import pandas as pd\n",
        "import matplotlib.pyplot as plt\n",
        "import seaborn as sns"
      ],
      "execution_count": 29,
      "outputs": []
    },
    {
      "cell_type": "code",
      "metadata": {
        "id": "OManZEihWxPl"
      },
      "source": [
        "# Machine Learning\n",
        "from sklearn.linear_model import LinearRegression\n",
        "from sklearn.neighbors import KNeighborsRegressor\n",
        "from sklearn.svm import SVR\n",
        "from sklearn.linear_model import Lasso\n",
        "from sklearn.linear_model import Ridge\n",
        "from sklearn.neural_network import MLPRegressor\n",
        "from sklearn.tree import DecisionTreeRegressor\n",
        "from sklearn.tree import ExtraTreeRegressor\n",
        "from xgboost import XGBRegressor\n",
        "from sklearn.ensemble import RandomForestRegressor\n",
        "from sklearn.ensemble import AdaBoostRegressor\n",
        "from sklearn.ensemble import GradientBoostingRegressor\n",
        "from sklearn.ensemble import BaggingRegressor\n",
        "\n",
        "# Metrics\n",
        "from sklearn import preprocessing\n",
        "from sklearn.model_selection import cross_val_score\n",
        "from sklearn.model_selection import KFold\n",
        "from sklearn.model_selection import train_test_split\n",
        "from sklearn.model_selection import GridSearchCV\n",
        "from sklearn.metrics import confusion_matrix\n",
        "\n",
        "from sklearn.metrics import mean_squared_log_error\n",
        "from sklearn.preprocessing import StandardScaler\n",
        "from sklearn.preprocessing import MinMaxScaler\n",
        "from sklearn.preprocessing import LabelEncoder\n",
        "from sklearn.preprocessing import Normalizer\n",
        "from sklearn.preprocessing import RobustScaler\n",
        "from sklearn.preprocessing import PowerTransformer\n",
        "from sklearn.preprocessing import QuantileTransformer\n",
        "from sklearn.preprocessing import PolynomialFeatures\n",
        "from sklearn.pipeline import make_pipeline\n",
        "from sklearn.linear_model import (\n",
        "    LinearRegression, TheilSenRegressor, RANSACRegressor, HuberRegressor)\n",
        "import sys"
      ],
      "execution_count": 30,
      "outputs": []
    },
    {
      "cell_type": "code",
      "metadata": {
        "colab": {
          "base_uri": "https://localhost:8080/"
        },
        "id": "myThf3-3W74J",
        "outputId": "4ea2c6c1-01cf-422b-fb07-337377895e4e"
      },
      "source": [
        "!wget \"https://www.dropbox.com/s/qvo45vf0kc7j41d/ift6758-a20.zip?dl=0\" -O data.zip\n"
      ],
      "execution_count": 2,
      "outputs": [
        {
          "output_type": "stream",
          "text": [
            "--2020-12-14 14:32:41--  https://www.dropbox.com/s/qvo45vf0kc7j41d/ift6758-a20.zip?dl=0\n",
            "Resolving www.dropbox.com (www.dropbox.com)... 162.125.1.18, 2620:100:6016:18::a27d:112\n",
            "Connecting to www.dropbox.com (www.dropbox.com)|162.125.1.18|:443... connected.\n",
            "HTTP request sent, awaiting response... 301 Moved Permanently\n",
            "Location: /s/raw/qvo45vf0kc7j41d/ift6758-a20.zip [following]\n",
            "--2020-12-14 14:32:41--  https://www.dropbox.com/s/raw/qvo45vf0kc7j41d/ift6758-a20.zip\n",
            "Reusing existing connection to www.dropbox.com:443.\n",
            "HTTP request sent, awaiting response... 302 Found\n",
            "Location: https://uc0403e55e0d28cfeacec0eb3209.dl.dropboxusercontent.com/cd/0/inline/BFAzHWzRFXsIAcdgd34OQmIeBz80IZ3J3DHo_dbqxsGnH6XfI86h4lFZODOTU1EdUSfpbTx59CJffwKGoK8OMReCY9eEaz658u3d8wB_DgdRBxol7FvlQvGcDC2wG9R3EXg/file# [following]\n",
            "--2020-12-14 14:32:42--  https://uc0403e55e0d28cfeacec0eb3209.dl.dropboxusercontent.com/cd/0/inline/BFAzHWzRFXsIAcdgd34OQmIeBz80IZ3J3DHo_dbqxsGnH6XfI86h4lFZODOTU1EdUSfpbTx59CJffwKGoK8OMReCY9eEaz658u3d8wB_DgdRBxol7FvlQvGcDC2wG9R3EXg/file\n",
            "Resolving uc0403e55e0d28cfeacec0eb3209.dl.dropboxusercontent.com (uc0403e55e0d28cfeacec0eb3209.dl.dropboxusercontent.com)... 162.125.1.15, 2620:100:6016:15::a27d:10f\n",
            "Connecting to uc0403e55e0d28cfeacec0eb3209.dl.dropboxusercontent.com (uc0403e55e0d28cfeacec0eb3209.dl.dropboxusercontent.com)|162.125.1.15|:443... connected.\n",
            "HTTP request sent, awaiting response... 302 Found\n",
            "Location: /cd/0/inline2/BFCWYESjb_uKgjEX0jaagpfwBZVeZQ5R36CEkOnD422T-7C2bNNIdutJ50eQGRasNTtk1A88dwDK9MYgenEr0RiVNw11S8BTJcTsRac562-j6u4MSB28gLDxnAaFNqCX1Xcp8JXlWwthIPRiRmFyVs3lx90gbu8fuI8ILcTgFs_UEHXDmxl99Owi1u-d6dG1om_ltnVP-9jnFXIiq-JCHrgayjcJuIPfunynGfkMCI813ZfweGGYLZsiktXmP1x71e8KZdp7UY0Vjgc2bm8CS96p8qbdQsqZ_ww_ajo69aGG6LAHjdLr666OF8vEel0kKQ6e83DD1DEScTUenLPJkAEhoYRBE2D70UrtKWZdmvc6Ow/file [following]\n",
            "--2020-12-14 14:32:42--  https://uc0403e55e0d28cfeacec0eb3209.dl.dropboxusercontent.com/cd/0/inline2/BFCWYESjb_uKgjEX0jaagpfwBZVeZQ5R36CEkOnD422T-7C2bNNIdutJ50eQGRasNTtk1A88dwDK9MYgenEr0RiVNw11S8BTJcTsRac562-j6u4MSB28gLDxnAaFNqCX1Xcp8JXlWwthIPRiRmFyVs3lx90gbu8fuI8ILcTgFs_UEHXDmxl99Owi1u-d6dG1om_ltnVP-9jnFXIiq-JCHrgayjcJuIPfunynGfkMCI813ZfweGGYLZsiktXmP1x71e8KZdp7UY0Vjgc2bm8CS96p8qbdQsqZ_ww_ajo69aGG6LAHjdLr666OF8vEel0kKQ6e83DD1DEScTUenLPJkAEhoYRBE2D70UrtKWZdmvc6Ow/file\n",
            "Reusing existing connection to uc0403e55e0d28cfeacec0eb3209.dl.dropboxusercontent.com:443.\n",
            "HTTP request sent, awaiting response... 200 OK\n",
            "Length: 15721515 (15M) [application/zip]\n",
            "Saving to: ‘data.zip’\n",
            "\n",
            "data.zip            100%[===================>]  14.99M  58.1MB/s    in 0.3s    \n",
            "\n",
            "2020-12-14 14:32:43 (58.1 MB/s) - ‘data.zip’ saved [15721515/15721515]\n",
            "\n"
          ],
          "name": "stdout"
        }
      ]
    },
    {
      "cell_type": "code",
      "metadata": {
        "id": "Pkj-esV6W_3u"
      },
      "source": [
        "!unzip data.zip"
      ],
      "execution_count": null,
      "outputs": []
    },
    {
      "cell_type": "code",
      "metadata": {
        "id": "hIMtvpv3WxPj"
      },
      "source": [
        "#Visualize the count of number of survivors\n",
        "sns.set()"
      ],
      "execution_count": 6,
      "outputs": []
    },
    {
      "cell_type": "code",
      "metadata": {
        "id": "ZiLhbQMLWxPj"
      },
      "source": [
        "# Set random seeds (for reproducibility requirement)\n",
        "os.environ['PYTHONHASHSEED']=str(1)\n",
        "tf.random.set_seed(67)\n",
        "np.random.seed(67)\n",
        "random.seed(67)"
      ],
      "execution_count": 7,
      "outputs": []
    },
    {
      "cell_type": "code",
      "metadata": {
        "id": "aG6RbL8mWxPj"
      },
      "source": [
        "# Load data\n",
        "train_df = pd.read_csv('train.csv')\n",
        "test_df = pd.read_csv('test.csv')"
      ],
      "execution_count": 284,
      "outputs": []
    },
    {
      "cell_type": "code",
      "metadata": {
        "colab": {
          "base_uri": "https://localhost:8080/",
          "height": 1000
        },
        "id": "LWcCJOagIAdJ",
        "outputId": "d3244969-b4f3-4509-a264-67c5aae416e3"
      },
      "source": [
        "train_df"
      ],
      "execution_count": 85,
      "outputs": [
        {
          "output_type": "execute_result",
          "data": {
            "text/html": [
              "<div>\n",
              "<style scoped>\n",
              "    .dataframe tbody tr th:only-of-type {\n",
              "        vertical-align: middle;\n",
              "    }\n",
              "\n",
              "    .dataframe tbody tr th {\n",
              "        vertical-align: top;\n",
              "    }\n",
              "\n",
              "    .dataframe thead th {\n",
              "        text-align: right;\n",
              "    }\n",
              "</style>\n",
              "<table border=\"1\" class=\"dataframe\">\n",
              "  <thead>\n",
              "    <tr style=\"text-align: right;\">\n",
              "      <th></th>\n",
              "      <th>Id</th>\n",
              "      <th>User Name</th>\n",
              "      <th>Personal URL</th>\n",
              "      <th>Profile Cover Image Status</th>\n",
              "      <th>Profile Verification Status</th>\n",
              "      <th>Profile Text Color</th>\n",
              "      <th>Profile Page Color</th>\n",
              "      <th>Profile Theme Color</th>\n",
              "      <th>Is Profile View Size Customized?</th>\n",
              "      <th>UTC Offset</th>\n",
              "      <th>Location</th>\n",
              "      <th>Location Public Visibility</th>\n",
              "      <th>User Language</th>\n",
              "      <th>Profile Creation Timestamp</th>\n",
              "      <th>User Time Zone</th>\n",
              "      <th>Num of Followers</th>\n",
              "      <th>Num of People Following</th>\n",
              "      <th>Num of Status Updates</th>\n",
              "      <th>Num of Direct Messages</th>\n",
              "      <th>Profile Category</th>\n",
              "      <th>Avg Daily Profile Visit Duration in seconds</th>\n",
              "      <th>Avg Daily Profile Clicks</th>\n",
              "      <th>Profile Image</th>\n",
              "      <th>Num of Profile Likes</th>\n",
              "    </tr>\n",
              "  </thead>\n",
              "  <tbody>\n",
              "    <tr>\n",
              "      <th>0</th>\n",
              "      <td>AL85S14OMDPF01I9</td>\n",
              "      <td>Mf9vfld4Vfe</td>\n",
              "      <td>NaN</td>\n",
              "      <td>Set</td>\n",
              "      <td>Verified</td>\n",
              "      <td>db1a2c</td>\n",
              "      <td>eaf0f2</td>\n",
              "      <td>e70409</td>\n",
              "      <td>False</td>\n",
              "      <td>39600.0</td>\n",
              "      <td>NaN</td>\n",
              "      <td>Enabled</td>\n",
              "      <td>en</td>\n",
              "      <td>Thu Nov 27 05:24:59 +0000 2008</td>\n",
              "      <td>Sydney</td>\n",
              "      <td>95763</td>\n",
              "      <td>4289</td>\n",
              "      <td>30809</td>\n",
              "      <td>873</td>\n",
              "      <td>business</td>\n",
              "      <td>14.792</td>\n",
              "      <td>1.5761</td>\n",
              "      <td>AL85S14OMDPF01I9.png</td>\n",
              "      <td>2815</td>\n",
              "    </tr>\n",
              "    <tr>\n",
              "      <th>1</th>\n",
              "      <td>HI11QOPD7BLJTO7Q</td>\n",
              "      <td>xl9gaGN0hxM_</td>\n",
              "      <td>NaN</td>\n",
              "      <td>Set</td>\n",
              "      <td>Verified</td>\n",
              "      <td>0099cc</td>\n",
              "      <td>f6ffd1</td>\n",
              "      <td>fff04d</td>\n",
              "      <td>False</td>\n",
              "      <td>NaN</td>\n",
              "      <td>mumbai</td>\n",
              "      <td>Enabled</td>\n",
              "      <td>en</td>\n",
              "      <td>Fri Jan 15 18:00:46 +0000 2010</td>\n",
              "      <td>NaN</td>\n",
              "      <td>1018746</td>\n",
              "      <td>289</td>\n",
              "      <td>8150</td>\n",
              "      <td>290</td>\n",
              "      <td>unknown</td>\n",
              "      <td>8.183</td>\n",
              "      <td>11.2782</td>\n",
              "      <td>HI11QOPD7BLJTO7Q.png</td>\n",
              "      <td>1242</td>\n",
              "    </tr>\n",
              "    <tr>\n",
              "      <th>2</th>\n",
              "      <td>JS49LP5P72RI1OQB</td>\n",
              "      <td>d_uiMm</td>\n",
              "      <td>NaN</td>\n",
              "      <td>Set</td>\n",
              "      <td>Not verified</td>\n",
              "      <td>1fc2de</td>\n",
              "      <td>efefef</td>\n",
              "      <td>1fc2de</td>\n",
              "      <td>False</td>\n",
              "      <td>-18000.0</td>\n",
              "      <td>NYC + 70 Countries Worldwide</td>\n",
              "      <td>Enabled</td>\n",
              "      <td>en</td>\n",
              "      <td>Fri Oct 02 20:15:06 +0000 2009</td>\n",
              "      <td>Central Time (US &amp; Canada)</td>\n",
              "      <td>13444</td>\n",
              "      <td>1876</td>\n",
              "      <td>4698</td>\n",
              "      <td>227</td>\n",
              "      <td>unknown</td>\n",
              "      <td>31.823</td>\n",
              "      <td>0.5725</td>\n",
              "      <td>JS49LP5P72RI1OQB.png</td>\n",
              "      <td>1559</td>\n",
              "    </tr>\n",
              "    <tr>\n",
              "      <th>3</th>\n",
              "      <td>S0GDSC09MACCLBJP</td>\n",
              "      <td>hfylaRr</td>\n",
              "      <td>https://blob/e/g9pex_vS.com</td>\n",
              "      <td>Not set</td>\n",
              "      <td>Verified</td>\n",
              "      <td>050000</td>\n",
              "      <td>616161</td>\n",
              "      <td>00090a</td>\n",
              "      <td>False</td>\n",
              "      <td>-14400.0</td>\n",
              "      <td>Indianapolis, In</td>\n",
              "      <td>Enabled</td>\n",
              "      <td>en</td>\n",
              "      <td>Thu Feb 19 14:37:22 +0000 2009</td>\n",
              "      <td>Eastern Time (US &amp; Canada)</td>\n",
              "      <td>339168</td>\n",
              "      <td>1148</td>\n",
              "      <td>53216</td>\n",
              "      <td>4035</td>\n",
              "      <td>business</td>\n",
              "      <td>23.052</td>\n",
              "      <td>4.0265</td>\n",
              "      <td>S0GDSC09MACCLBJP.png</td>\n",
              "      <td>6342</td>\n",
              "    </tr>\n",
              "    <tr>\n",
              "      <th>4</th>\n",
              "      <td>CRSEMK4QER6LDJSA</td>\n",
              "      <td>hRR1sDGlz5</td>\n",
              "      <td>https://blob/v/Szeo.h4/.com</td>\n",
              "      <td>Set</td>\n",
              "      <td>Not verified</td>\n",
              "      <td>58424d</td>\n",
              "      <td>f7f7f7</td>\n",
              "      <td>000000</td>\n",
              "      <td>False</td>\n",
              "      <td>-18000.0</td>\n",
              "      <td>777 Beach Blvd. Biloxi, MS</td>\n",
              "      <td>Enabled</td>\n",
              "      <td>en</td>\n",
              "      <td>Tue Mar 31 13:27:52 +0000 2009</td>\n",
              "      <td>Central Time (US &amp; Canada)</td>\n",
              "      <td>9215</td>\n",
              "      <td>93</td>\n",
              "      <td>3271</td>\n",
              "      <td>130</td>\n",
              "      <td>unknown</td>\n",
              "      <td>8.418</td>\n",
              "      <td>3.9229</td>\n",
              "      <td>CRSEMK4QER6LDJSA.png</td>\n",
              "      <td>1078</td>\n",
              "    </tr>\n",
              "    <tr>\n",
              "      <th>...</th>\n",
              "      <td>...</td>\n",
              "      <td>...</td>\n",
              "      <td>...</td>\n",
              "      <td>...</td>\n",
              "      <td>...</td>\n",
              "      <td>...</td>\n",
              "      <td>...</td>\n",
              "      <td>...</td>\n",
              "      <td>...</td>\n",
              "      <td>...</td>\n",
              "      <td>...</td>\n",
              "      <td>...</td>\n",
              "      <td>...</td>\n",
              "      <td>...</td>\n",
              "      <td>...</td>\n",
              "      <td>...</td>\n",
              "      <td>...</td>\n",
              "      <td>...</td>\n",
              "      <td>...</td>\n",
              "      <td>...</td>\n",
              "      <td>...</td>\n",
              "      <td>...</td>\n",
              "      <td>...</td>\n",
              "      <td>...</td>\n",
              "    </tr>\n",
              "    <tr>\n",
              "      <th>7495</th>\n",
              "      <td>KP5DR7CTN8CNLG8P</td>\n",
              "      <td>OkKZVeUwhipjmao</td>\n",
              "      <td>NaN</td>\n",
              "      <td>Not set</td>\n",
              "      <td>Verified</td>\n",
              "      <td>490707</td>\n",
              "      <td>ddeef6</td>\n",
              "      <td>000000</td>\n",
              "      <td>False</td>\n",
              "      <td>-25200.0</td>\n",
              "      <td>NaN</td>\n",
              "      <td>Disabled</td>\n",
              "      <td>en</td>\n",
              "      <td>Thu Jan 20 20:22:20 +0000 2011</td>\n",
              "      <td>Pacific Time (US &amp; Canada)</td>\n",
              "      <td>6086</td>\n",
              "      <td>76</td>\n",
              "      <td>985</td>\n",
              "      <td>56</td>\n",
              "      <td>unknown</td>\n",
              "      <td>24.792</td>\n",
              "      <td>8.1106</td>\n",
              "      <td>KP5DR7CTN8CNLG8P.png</td>\n",
              "      <td>1373</td>\n",
              "    </tr>\n",
              "    <tr>\n",
              "      <th>7496</th>\n",
              "      <td>SGNF9P1P3922T34T</td>\n",
              "      <td>TPgyIiQieSq</td>\n",
              "      <td>NaN</td>\n",
              "      <td>Not set</td>\n",
              "      <td>Not verified</td>\n",
              "      <td>000000</td>\n",
              "      <td>ffffff</td>\n",
              "      <td>ffffff</td>\n",
              "      <td>False</td>\n",
              "      <td>-10800.0</td>\n",
              "      <td>Belo Horizonte</td>\n",
              "      <td>Enabled</td>\n",
              "      <td>pt</td>\n",
              "      <td>Wed Mar 16 03:50:49 +0000 2011</td>\n",
              "      <td>America/Sao_Paulo</td>\n",
              "      <td>280190</td>\n",
              "      <td>38604</td>\n",
              "      <td>20652</td>\n",
              "      <td>172</td>\n",
              "      <td>unknown</td>\n",
              "      <td>26.006</td>\n",
              "      <td>0.8956</td>\n",
              "      <td>SGNF9P1P3922T34T.png</td>\n",
              "      <td>1407</td>\n",
              "    </tr>\n",
              "    <tr>\n",
              "      <th>7497</th>\n",
              "      <td>O00FTLDT6O803LD0</td>\n",
              "      <td>piL8bSOPoaW4</td>\n",
              "      <td>NaN</td>\n",
              "      <td>Set</td>\n",
              "      <td>Verified</td>\n",
              "      <td>0084b4</td>\n",
              "      <td>ddffcc</td>\n",
              "      <td>00133b</td>\n",
              "      <td>False</td>\n",
              "      <td>7200.0</td>\n",
              "      <td>Stockholm, Sweden</td>\n",
              "      <td>enabled</td>\n",
              "      <td>en</td>\n",
              "      <td>Sat Mar 14 16:18:06 +0000 2009</td>\n",
              "      <td>Stockholm</td>\n",
              "      <td>21647</td>\n",
              "      <td>49</td>\n",
              "      <td>2348</td>\n",
              "      <td>271</td>\n",
              "      <td></td>\n",
              "      <td>15.030</td>\n",
              "      <td>2.8867</td>\n",
              "      <td>O00FTLDT6O803LD0.png</td>\n",
              "      <td>1235</td>\n",
              "    </tr>\n",
              "    <tr>\n",
              "      <th>7498</th>\n",
              "      <td>9F04JLR9JGT8R3EJ</td>\n",
              "      <td>buidBJStq59D</td>\n",
              "      <td>NaN</td>\n",
              "      <td>Set</td>\n",
              "      <td>Not verified</td>\n",
              "      <td>91d2fa</td>\n",
              "      <td>ddffcc</td>\n",
              "      <td>fa743e</td>\n",
              "      <td>False</td>\n",
              "      <td>-10800.0</td>\n",
              "      <td>Brasil</td>\n",
              "      <td>enabled</td>\n",
              "      <td>pt</td>\n",
              "      <td>Sat Jul 25 16:08:25 +0000 2009</td>\n",
              "      <td>Brasilia</td>\n",
              "      <td>89005</td>\n",
              "      <td>256</td>\n",
              "      <td>73830</td>\n",
              "      <td>346</td>\n",
              "      <td>business</td>\n",
              "      <td>11.948</td>\n",
              "      <td>1.7756</td>\n",
              "      <td>9F04JLR9JGT8R3EJ.png</td>\n",
              "      <td>1105</td>\n",
              "    </tr>\n",
              "    <tr>\n",
              "      <th>7499</th>\n",
              "      <td>LLKNQ56IFCSSCOT6</td>\n",
              "      <td>EBc5wEvI</td>\n",
              "      <td>https://blob/thh6/Q4T3.com</td>\n",
              "      <td>Set</td>\n",
              "      <td>Not verified</td>\n",
              "      <td>0084b4</td>\n",
              "      <td>ddeef6</td>\n",
              "      <td>c0deed</td>\n",
              "      <td>False</td>\n",
              "      <td>32400.0</td>\n",
              "      <td>DMは見ていません。</td>\n",
              "      <td>disabled</td>\n",
              "      <td>ja</td>\n",
              "      <td>Tue Dec 21 10:05:37 +0000 2010</td>\n",
              "      <td>Tokyo</td>\n",
              "      <td>313002</td>\n",
              "      <td>254541</td>\n",
              "      <td>28928</td>\n",
              "      <td>875</td>\n",
              "      <td>business</td>\n",
              "      <td>14.307</td>\n",
              "      <td>9.6908</td>\n",
              "      <td>LLKNQ56IFCSSCOT6.png</td>\n",
              "      <td>375</td>\n",
              "    </tr>\n",
              "  </tbody>\n",
              "</table>\n",
              "<p>7500 rows × 24 columns</p>\n",
              "</div>"
            ],
            "text/plain": [
              "                    Id  ... Num of Profile Likes\n",
              "0     AL85S14OMDPF01I9  ...                 2815\n",
              "1     HI11QOPD7BLJTO7Q  ...                 1242\n",
              "2     JS49LP5P72RI1OQB  ...                 1559\n",
              "3     S0GDSC09MACCLBJP  ...                 6342\n",
              "4     CRSEMK4QER6LDJSA  ...                 1078\n",
              "...                ...  ...                  ...\n",
              "7495  KP5DR7CTN8CNLG8P  ...                 1373\n",
              "7496  SGNF9P1P3922T34T  ...                 1407\n",
              "7497  O00FTLDT6O803LD0  ...                 1235\n",
              "7498  9F04JLR9JGT8R3EJ  ...                 1105\n",
              "7499  LLKNQ56IFCSSCOT6  ...                  375\n",
              "\n",
              "[7500 rows x 24 columns]"
            ]
          },
          "metadata": {
            "tags": []
          },
          "execution_count": 85
        }
      ]
    },
    {
      "cell_type": "code",
      "metadata": {
        "colab": {
          "base_uri": "https://localhost:8080/",
          "height": 265
        },
        "id": "-cgtIWv78i01",
        "outputId": "666ecfc1-77b3-4d01-dba6-c64feac24f32"
      },
      "source": [
        "sns.boxplot(y = \"Num of Profile Likes\", data= train_df)"
      ],
      "execution_count": 9,
      "outputs": [
        {
          "output_type": "execute_result",
          "data": {
            "text/plain": [
              "<matplotlib.axes._subplots.AxesSubplot at 0x7faabd2c3550>"
            ]
          },
          "metadata": {
            "tags": []
          },
          "execution_count": 9
        },
        {
          "output_type": "display_data",
          "data": {
            "image/png": "[encoded data removed]",
            "text/plain": [
              "<Figure size 432x288 with 1 Axes>"
            ]
          },
          "metadata": {
            "tags": []
          }
        }
      ]
    },
    {
      "cell_type": "code",
      "metadata": {
        "colab": {
          "base_uri": "https://localhost:8080/"
        },
        "id": "o2wPaDiVWxPk",
        "outputId": "ae5ce2db-c479-47de-ddbe-7d5c04b57774"
      },
      "source": [
        "train_df.isnull().sum()"
      ],
      "execution_count": 10,
      "outputs": [
        {
          "output_type": "execute_result",
          "data": {
            "text/plain": [
              "Id                                                0\n",
              "User Name                                         0\n",
              "Personal URL                                   4244\n",
              "Profile Cover Image Status                       90\n",
              "Profile Verification Status                       0\n",
              "Profile Text Color                               66\n",
              "Profile Page Color                               78\n",
              "Profile Theme Color                              72\n",
              "Is Profile View Size Customized?                  0\n",
              "UTC Offset                                      486\n",
              "Location                                       1461\n",
              "Location Public Visibility                        0\n",
              "User Language                                     0\n",
              "Profile Creation Timestamp                        0\n",
              "User Time Zone                                  486\n",
              "Num of Followers                                  0\n",
              "Num of People Following                           0\n",
              "Num of Status Updates                             0\n",
              "Num of Direct Messages                            0\n",
              "Profile Category                                  0\n",
              "Avg Daily Profile Visit Duration in seconds      77\n",
              "Avg Daily Profile Clicks                         76\n",
              "Profile Image                                     0\n",
              "Num of Profile Likes                              0\n",
              "dtype: int64"
            ]
          },
          "metadata": {
            "tags": []
          },
          "execution_count": 10
        }
      ]
    },
    {
      "cell_type": "code",
      "metadata": {
        "colab": {
          "base_uri": "https://localhost:8080/"
        },
        "id": "mb4DK7c48rDM",
        "outputId": "c3d8d95d-206c-463a-c25f-4c045cbeb5a4"
      },
      "source": [
        "train_df.loc[train_df['Num of Profile Likes'].idxmax()]"
      ],
      "execution_count": 11,
      "outputs": [
        {
          "output_type": "execute_result",
          "data": {
            "text/plain": [
              "Id                                                           D8E23RLRSGIEHRO6\n",
              "User Name                                                      lLvSEsGhtaCNaf\n",
              "Personal URL                                      https://blob/vrpslktps6.com\n",
              "Profile Cover Image Status                                                Set\n",
              "Profile Verification Status                                          Verified\n",
              "Profile Text Color                                                     f58ea8\n",
              "Profile Page Color                                                     ddeef6\n",
              "Profile Theme Color                                                    ffffff\n",
              "Is Profile View Size Customized?                                        False\n",
              "UTC Offset                                                              10800\n",
              "Location                                                       Moscow, Russia\n",
              "Location Public Visibility                                            Enabled\n",
              "User Language                                                              ru\n",
              "Profile Creation Timestamp                     Thu Mar 08 14:43:54 +0000 2012\n",
              "User Time Zone                                                      Volgograd\n",
              "Num of Followers                                                      1098185\n",
              "Num of People Following                                                    11\n",
              "Num of Status Updates                                                    3270\n",
              "Num of Direct Messages                                                    563\n",
              "Profile Category                                                      unknown\n",
              "Avg Daily Profile Visit Duration in seconds                             21.68\n",
              "Avg Daily Profile Clicks                                               6.4352\n",
              "Profile Image                                            D8E23RLRSGIEHRO6.png\n",
              "Num of Profile Likes                                                   550594\n",
              "Name: 6890, dtype: object"
            ]
          },
          "metadata": {
            "tags": []
          },
          "execution_count": 11
        }
      ]
    },
    {
      "cell_type": "code",
      "metadata": {
        "id": "ZllB_dPLuG-k"
      },
      "source": [
        "\r\n",
        "# get the number of seconds to the unix epoch start.\r\n",
        "df_unix_sec = pd.to_datetime(train_df['Profile Creation Timestamp']).astype(int)/ 10**9"
      ],
      "execution_count": 80,
      "outputs": []
    },
    {
      "cell_type": "code",
      "metadata": {
        "colab": {
          "base_uri": "https://localhost:8080/",
          "height": 284
        },
        "id": "jtmoLR5H7juP",
        "outputId": "ec080c97-7ba7-4a47-9fe8-9e3d5a04de8f"
      },
      "source": [
        "fig, ax = plt.subplots()\r\n",
        "ax.scatter(x = df_unix_sec, y = train_df['Num of Profile Likes'])\r\n",
        "plt.ylabel('Num of Profile Likes', fontsize=13)\r\n",
        "plt.xlabel('profile_create_sec', fontsize=13)\r\n",
        "plt.show()\r\n",
        "\r\n"
      ],
      "execution_count": 81,
      "outputs": [
        {
          "output_type": "display_data",
          "data": {
            "image/png": "[encoded data removed]",
            "text/plain": [
              "<Figure size 432x288 with 1 Axes>"
            ]
          },
          "metadata": {
            "tags": []
          }
        }
      ]
    },
    {
      "cell_type": "code",
      "metadata": {
        "colab": {
          "base_uri": "https://localhost:8080/",
          "height": 640
        },
        "id": "TD9XbyB4_uLt",
        "outputId": "87721398-bd2d-425e-92bd-a4378c3dcb10"
      },
      "source": [
        "# Num of Profile Likes分布图\r\n",
        "from scipy.stats import norm\r\n",
        "from scipy import stats\r\n",
        "sns.distplot(train_df['Num of Profile Likes'] , fit=norm)\r\n",
        "\r\n",
        "(mu, sigma) = norm.fit(train_df['Num of Profile Likes'])\r\n",
        "plt.legend(['Normal dist. ($\\mu=$ {:.2f} and $\\sigma=$ {:.2f} )'.format(mu, sigma)],\r\n",
        "           loc='best')\r\n",
        "plt.ylabel('Frequency')\r\n",
        "plt.title('Num of Profile Likesn')\r\n",
        "\r\n",
        "# QQ-plot（verify same distribution）\r\n",
        "fig = plt.figure()\r\n",
        "res = stats.probplot(train_df['Num of Profile Likes'], plot=plt)\r\n",
        "plt.show()"
      ],
      "execution_count": 12,
      "outputs": [
        {
          "output_type": "stream",
          "text": [
            "/usr/local/lib/python3.6/dist-packages/seaborn/distributions.py:2551: FutureWarning: `distplot` is a deprecated function and will be removed in a future version. Please adapt your code to use either `displot` (a figure-level function with similar flexibility) or `histplot` (an axes-level function for histograms).\n",
            "  warnings.warn(msg, FutureWarning)\n"
          ],
          "name": "stderr"
        },
        {
          "output_type": "display_data",
          "data": {
            "image/png": "[encoded data removed]",
            "text/plain": [
              "<Figure size 432x288 with 1 Axes>"
            ]
          },
          "metadata": {
            "tags": []
          }
        },
        {
          "output_type": "display_data",
          "data": {
            "image/png": "[encoded data removed]",
            "text/plain": [
              "<Figure size 432x288 with 1 Axes>"
            ]
          },
          "metadata": {
            "tags": []
          }
        }
      ]
    },
    {
      "cell_type": "code",
      "metadata": {
        "id": "l9Dkn2vs66rX"
      },
      "source": [
        ""
      ],
      "execution_count": 12,
      "outputs": []
    },
    {
      "cell_type": "markdown",
      "metadata": {
        "id": "H-ylrzwEBvcs"
      },
      "source": [
        ""
      ]
    },
    {
      "cell_type": "code",
      "metadata": {
        "colab": {
          "base_uri": "https://localhost:8080/",
          "height": 640
        },
        "id": "PV8KsSrg6T5j",
        "outputId": "35fda16b-7cd0-4514-e13a-6475a37672b6"
      },
      "source": [
        "# Num of Profile Likes分布图\r\n",
        "from scipy.stats import norm\r\n",
        "from scipy import stats\r\n",
        "sns.distplot(np.log(train_df['Num of Profile Likes'] +1), fit=norm)\r\n",
        "# SalePrice均值、均方差\r\n",
        "(mu, sigma) = norm.fit(train_df['Num of Profile Likes'])\r\n",
        "plt.legend(['Normal dist. ($\\mu=$ {:.2f} and $\\sigma=$ {:.2f} )'.format(mu, sigma)],\r\n",
        "           loc='best')\r\n",
        "plt.ylabel('Frequency')\r\n",
        "plt.title('Num of Profile Likesn')\r\n",
        "\r\n",
        "# QQ-plot（验证某两组数据是否来自同一分布，离的距离）\r\n",
        "fig = plt.figure()\r\n",
        "res = stats.probplot(np.log(train_df['Num of Profile Likes']+1), plot=plt)\r\n",
        "plt.show()"
      ],
      "execution_count": 155,
      "outputs": [
        {
          "output_type": "stream",
          "text": [
            "/usr/local/lib/python3.6/dist-packages/seaborn/distributions.py:2551: FutureWarning: `distplot` is a deprecated function and will be removed in a future version. Please adapt your code to use either `displot` (a figure-level function with similar flexibility) or `histplot` (an axes-level function for histograms).\n",
            "  warnings.warn(msg, FutureWarning)\n"
          ],
          "name": "stderr"
        },
        {
          "output_type": "display_data",
          "data": {
            "image/png": "[encoded data removed]",
            "text/plain": [
              "<Figure size 432x288 with 1 Axes>"
            ]
          },
          "metadata": {
            "tags": []
          }
        },
        {
          "output_type": "display_data",
          "data": {
            "image/png": "[encoded data removed]",
            "text/plain": [
              "<Figure size 432x288 with 1 Axes>"
            ]
          },
          "metadata": {
            "tags": []
          }
        }
      ]
    },
    {
      "cell_type": "code",
      "metadata": {
        "colab": {
          "base_uri": "https://localhost:8080/",
          "height": 761
        },
        "id": "aaJZNbN4Doxm",
        "outputId": "56bb1155-3c6a-40c0-98f5-039a22b680bc"
      },
      "source": [
        "# 两文件数据量\r\n",
        "\r\n",
        "ntrain = train_df.shape[0]\r\n",
        "ntest = test_df.shape[0]\r\n",
        "y_train = train_df['Num of Profile Likes'].values\r\n",
        "# 连接两个表，将两个表的数据共同处理\r\n",
        "all_data = pd.concat((train_df, test_df)).reset_index(drop=True)\r\n",
        "# 去掉目标变量SalePrice列\r\n",
        "#all_data.drop(['Num of Profile Likes'], axis=1, inplace=True)\r\n",
        "#查看各变量与预测目标相关性，按照右边颜色条进行判断\r\n",
        "\r\n",
        "corrmat = train_df.corr()\r\n",
        "plt.subplots(figsize=(12,9))\r\n",
        "sns.heatmap(corrmat, vmax=0.9)\r\n",
        "plt.show()"
      ],
      "execution_count": 285,
      "outputs": [
        {
          "output_type": "display_data",
          "data": {
            "image/png": "[encoded data removed]",
            "text/plain": [
              "<Figure size 864x648 with 2 Axes>"
            ]
          },
          "metadata": {
            "tags": []
          }
        }
      ]
    },
    {
      "cell_type": "code",
      "metadata": {
        "colab": {
          "base_uri": "https://localhost:8080/"
        },
        "id": "GlHfkC8oGEyz",
        "outputId": "9142974a-36d4-4025-9bf1-18e71b55013d"
      },
      "source": [
        "# 查看各变量缺失率及降序排序\r\n",
        "all_data_na = (all_data.isnull().sum() / len(all_data)) * 100\r\n",
        "all_data_na = all_data_na.drop(all_data_na[all_data_na == 0].index).sort_values(ascending=False)[:30]\r\n",
        "missing_data = pd.DataFrame({'Missing Ratio' :all_data_na})\r\n",
        "print(\"missing_data:\", missing_data.head(20)) # 列出前20个\r\n",
        "\r\n",
        "# 填补缺失值，None\\0\\众数\\中位数\\指定值填充，或者去掉该列\r\n"
      ],
      "execution_count": 286,
      "outputs": [
        {
          "output_type": "stream",
          "text": [
            "missing_data:                                              Missing Ratio\n",
            "Personal URL                                         57.06\n",
            "Num of Profile Likes                                 25.00\n",
            "Location                                             19.37\n",
            "User Time Zone                                        6.34\n",
            "UTC Offset                                            6.34\n",
            "Profile Cover Image Status                            1.10\n",
            "Profile Page Color                                    1.05\n",
            "Avg Daily Profile Clicks                              1.03\n",
            "Avg Daily Profile Visit Duration in seconds           1.03\n",
            "Profile Text Color                                    1.02\n",
            "Profile Theme Color                                   0.95\n"
          ],
          "name": "stdout"
        }
      ]
    },
    {
      "cell_type": "code",
      "metadata": {
        "colab": {
          "base_uri": "https://localhost:8080/"
        },
        "id": "Am4zrB-8y1HS",
        "outputId": "aec7878c-15f6-44c9-ddc7-a547d2c0930c"
      },
      "source": [
        "from scipy.stats import skew\r\n",
        "numeric_feats = all_data.dtypes[all_data.dtypes != \"object\"].index\r\n",
        "\r\n",
        "# 列出数据的偏斜度，降序排序\r\n",
        "skewed_feats = all_data[numeric_feats].apply(lambda x: skew(x.dropna())).sort_values(ascending=False)\r\n",
        "print(\"\\nSkew in numerical features: \\n\")\r\n",
        "skewness = pd.DataFrame({'Skew' :skewed_feats})\r\n",
        "print(\"skew:\",skewness.head(10))\r\n"
      ],
      "execution_count": 393,
      "outputs": [
        {
          "output_type": "stream",
          "text": [
            "\n",
            "Skew in numerical features: \n",
            "\n",
            "skew:                                                   Skew\n",
            "Num of Direct Messages                       91.925614\n",
            "Num of Status Updates                        20.896627\n",
            "Num of Profile Likes                         15.334414\n",
            "Num of Followers                             15.202550\n",
            "Num of People Following                      11.894325\n",
            "Is Profile View Size Customized?              2.802717\n",
            "Avg Daily Profile Clicks                      1.853172\n",
            "UTC Offset                                    0.638459\n",
            "Avg Daily Profile Visit Duration in seconds   0.022615\n"
          ],
          "name": "stdout"
        }
      ]
    },
    {
      "cell_type": "code",
      "metadata": {
        "colab": {
          "base_uri": "https://localhost:8080/"
        },
        "id": "usYwWpp3ub46",
        "outputId": "04e02626-9d53-49a1-f9da-acbe1e643542"
      },
      "source": [
        "\r\n",
        "# 将偏斜度大于0.5的数值列做一个log转换，使之尽量符合正态分布，因为很多模型的假设数据服从正态分布\r\n",
        "skewness = skewness[abs(skewness.Skew) > 0.75]\r\n",
        "print(\"There are {} skewed numerical features to Box Cox transform\".format(skewness.shape[0]))\r\n",
        "\r\n",
        "from scipy.special import boxcox1p\r\n",
        "skewed_features = skewness.index\r\n",
        "lam = 0.15\r\n",
        "for feat in skewed_features:\r\n",
        "  if feat != 'Num of Profile Likes':\r\n",
        "    all_data[feat] = boxcox1p(all_data[feat], lam)\r\n",
        "print(\"LabelEncoder：all_data.shape:\", all_data.shape)"
      ],
      "execution_count": 201,
      "outputs": [
        {
          "output_type": "stream",
          "text": [
            "There are 7 skewed numerical features to Box Cox transform\n",
            "LabelEncoder：all_data.shape: (10000, 24)\n"
          ],
          "name": "stdout"
        }
      ]
    },
    {
      "cell_type": "code",
      "metadata": {
        "id": "1W8kWN31WxPk"
      },
      "source": [
        "# Finalizing all the pre-processing steps we have seen above.\n",
        "def pre_process(data):\n",
        "\n",
        "  data.loc[data['Personal URL'].notnull(), 'URL']=1\n",
        "  data.loc[data['Personal URL'].isnull(), 'URL']=0\n",
        "    \n",
        "  data['Profile Cover Image Status'] = data['Profile Cover Image Status'].fillna('Not Set').replace(['Set', 'Not set', 'Not Set'], [1., 0., 0.])\n",
        "\n",
        "  data['Profile Verification Status'] = data['Profile Verification Status'].fillna('0').replace(['Not verified', 'Pending','Verified'], [0.,1., 2.])\n",
        "    \n",
        "  data['Profile Category'] = data['Profile Category'].replace(['business', 'celebrity','government', 'unknown'], [1., 2., 3., 0.])\n",
        "\n",
        "  data['Avg Daily Profile Clicks'] = data['Avg Daily Profile Clicks'].fillna(0.)\n",
        "    \n",
        "  data['Avg Daily Profile Visit Duration in seconds'] = data['Avg Daily Profile Visit Duration in seconds'].fillna(0.)\n",
        "\n",
        "  data['Profile Text Color'] = data['Profile Text Color'].fillna('000000')\n",
        "  data['Profile Page Color'] = data['Profile Page Color'].fillna('FFFFFF')\n",
        "  data['Profile Theme Color'] = data['Profile Theme Color'].fillna('FFFFFF')\n",
        "    \n",
        "  data['UTC Offset'] = data['UTC Offset'].fillna('0')\n",
        "  data['Location'] = data['Location'].fillna('unknown')\n",
        "  data['Location Public Visibility'] = data['Location Public Visibility'].replace(['Disabled', 'Enabled', 'enabled', 'disabled', '??', ' '], [0., 1., 1., 0., 0., 0.])\n",
        "  data['User Time Zone'] = data['User Time Zone'].fillna('unknown')\n",
        "  '''\n",
        "  Color: Convert 16-digit Hex Code to 0-255, Separate Columns RR-GG-BB, then will have numeric features\n",
        "  Profile Creation Timestamp: convert to long numeric (the year matters)'''\n",
        "\n",
        "  data['profile_text_r'] = data['Profile Text Color'].str[:2].apply(lambda x: int(x, 16))\n",
        "  data['profile_text_g'] = data['Profile Text Color'].str[2:4].apply(lambda x: int(x, 16))\n",
        "  data['profile_text_b'] = data['Profile Text Color'].str[4:].apply(lambda x: int(x, 16))\n",
        "\n",
        "  data['profile_page_r'] = data['Profile Page Color'].str[:2].apply(lambda x: int(x, 16))\n",
        "  data['profile_page_g'] = data['Profile Page Color'].str[2:4].apply(lambda x: int(x, 16))\n",
        "  data['profile_page_b'] = data['Profile Page Color'].str[4:].apply(lambda x: int(x, 16))\n",
        "\n",
        "  data['profile_theme_r'] = data['Profile Theme Color'].str[:2].apply(lambda x: int(x, 16))\n",
        "  data['profile_theme_g'] = data['Profile Theme Color'].str[2:4].apply(lambda x: int(x, 16))\n",
        "  data['profile_theme_b'] = data['Profile Theme Color'].str[4:].apply(lambda x: int(x, 16))\n",
        "\n",
        "  data['profile_create_sec'] = pd.to_datetime(data['Profile Creation Timestamp']).astype(int)/ 10**9\n",
        "\n",
        "  data['Profile Category'] = data['Profile Category'].replace([' '], [4.])\n",
        "\n",
        "  data['User Time Zone'] = LabelEncoder().fit_transform(data['User Time Zone'])\n",
        "  data['User Language'] = LabelEncoder().fit_transform(data['User Language'])\n",
        "\n",
        "  return data\n",
        "\n",
        "# 数据预处理完成后的总训练集、预测集\n",
        "train = all_data[:ntrain]\n",
        "test = all_data[ntrain:]\n",
        "\n",
        "train_df_p = pre_process(train)\n",
        "test_df_p = pre_process(test) \n"
      ],
      "execution_count": null,
      "outputs": []
    },
    {
      "cell_type": "code",
      "metadata": {
        "id": "Lh3byiFs5d8i"
      },
      "source": [
        "train_df_p = train_df_p.drop(columns=['Personal URL','User Name', 'Profile Text Color', 'Profile Page Color','Profile Theme Color', 'Location', \r\n",
        "                         'Profile Creation Timestamp', 'Profile Image'])\r\n",
        "test_df_p = test_df_p.drop(columns=['Personal URL','User Name', 'Profile Text Color', 'Profile Page Color','Profile Theme Color', 'Location', \r\n",
        "                         'Profile Creation Timestamp', 'Profile Image'])"
      ],
      "execution_count": 396,
      "outputs": []
    },
    {
      "cell_type": "code",
      "metadata": {
        "colab": {
          "base_uri": "https://localhost:8080/",
          "height": 761
        },
        "id": "D6Lf5BkcHOJN",
        "outputId": "e6e211f4-b1f4-451a-edf8-8fbd60f962d0"
      },
      "source": [
        "corrmat = train_df_p.corr()\r\n",
        "plt.subplots(figsize=(12,9))\r\n",
        "sns.heatmap(corrmat, vmax=0.9)\r\n",
        "plt.show()"
      ],
      "execution_count": 290,
      "outputs": [
        {
          "output_type": "display_data",
          "data": {
            "image/png": "[encoded data removed]",
            "text/plain": [
              "<Figure size 864x648 with 2 Axes>"
            ]
          },
          "metadata": {
            "tags": []
          }
        }
      ]
    },
    {
      "cell_type": "code",
      "metadata": {
        "colab": {
          "base_uri": "https://localhost:8080/",
          "height": 797
        },
        "id": "qNlgkhMfve4k",
        "outputId": "c3add27c-9764-47cf-d988-4b9540ca5145"
      },
      "source": [
        "pd.DataFrame(corrmat['Num of Profile Likes']).sort_values(by=['Num of Profile Likes'])"
      ],
      "execution_count": 291,
      "outputs": [
        {
          "output_type": "execute_result",
          "data": {
            "text/html": [
              "<div>\n",
              "<style scoped>\n",
              "    .dataframe tbody tr th:only-of-type {\n",
              "        vertical-align: middle;\n",
              "    }\n",
              "\n",
              "    .dataframe tbody tr th {\n",
              "        vertical-align: top;\n",
              "    }\n",
              "\n",
              "    .dataframe thead th {\n",
              "        text-align: right;\n",
              "    }\n",
              "</style>\n",
              "<table border=\"1\" class=\"dataframe\">\n",
              "  <thead>\n",
              "    <tr style=\"text-align: right;\">\n",
              "      <th></th>\n",
              "      <th>Num of Profile Likes</th>\n",
              "    </tr>\n",
              "  </thead>\n",
              "  <tbody>\n",
              "    <tr>\n",
              "      <th>URL</th>\n",
              "      <td>-0.165150</td>\n",
              "    </tr>\n",
              "    <tr>\n",
              "      <th>profile_create_sec</th>\n",
              "      <td>-0.060728</td>\n",
              "    </tr>\n",
              "    <tr>\n",
              "      <th>Is Profile View Size Customized?</th>\n",
              "      <td>-0.049112</td>\n",
              "    </tr>\n",
              "    <tr>\n",
              "      <th>profile_theme_g</th>\n",
              "      <td>-0.033078</td>\n",
              "    </tr>\n",
              "    <tr>\n",
              "      <th>User Time Zone</th>\n",
              "      <td>-0.029241</td>\n",
              "    </tr>\n",
              "    <tr>\n",
              "      <th>profile_theme_b</th>\n",
              "      <td>-0.028640</td>\n",
              "    </tr>\n",
              "    <tr>\n",
              "      <th>profile_page_r</th>\n",
              "      <td>-0.026620</td>\n",
              "    </tr>\n",
              "    <tr>\n",
              "      <th>profile_page_b</th>\n",
              "      <td>-0.025728</td>\n",
              "    </tr>\n",
              "    <tr>\n",
              "      <th>profile_theme_r</th>\n",
              "      <td>-0.025128</td>\n",
              "    </tr>\n",
              "    <tr>\n",
              "      <th>profile_page_g</th>\n",
              "      <td>-0.025106</td>\n",
              "    </tr>\n",
              "    <tr>\n",
              "      <th>profile_text_g</th>\n",
              "      <td>-0.024983</td>\n",
              "    </tr>\n",
              "    <tr>\n",
              "      <th>profile_text_b</th>\n",
              "      <td>-0.018857</td>\n",
              "    </tr>\n",
              "    <tr>\n",
              "      <th>Avg Daily Profile Visit Duration in seconds</th>\n",
              "      <td>-0.010651</td>\n",
              "    </tr>\n",
              "    <tr>\n",
              "      <th>Num of Followers</th>\n",
              "      <td>-0.009628</td>\n",
              "    </tr>\n",
              "    <tr>\n",
              "      <th>User Language</th>\n",
              "      <td>-0.008645</td>\n",
              "    </tr>\n",
              "    <tr>\n",
              "      <th>Profile Cover Image Status</th>\n",
              "      <td>-0.008131</td>\n",
              "    </tr>\n",
              "    <tr>\n",
              "      <th>Num of Direct Messages</th>\n",
              "      <td>-0.000513</td>\n",
              "    </tr>\n",
              "    <tr>\n",
              "      <th>profile_text_r</th>\n",
              "      <td>0.028941</td>\n",
              "    </tr>\n",
              "    <tr>\n",
              "      <th>Num of Status Updates</th>\n",
              "      <td>0.043182</td>\n",
              "    </tr>\n",
              "    <tr>\n",
              "      <th>Location Public Visibility</th>\n",
              "      <td>0.075806</td>\n",
              "    </tr>\n",
              "    <tr>\n",
              "      <th>Profile Category</th>\n",
              "      <td>0.087298</td>\n",
              "    </tr>\n",
              "    <tr>\n",
              "      <th>Profile Verification Status</th>\n",
              "      <td>0.090158</td>\n",
              "    </tr>\n",
              "    <tr>\n",
              "      <th>Num of People Following</th>\n",
              "      <td>0.123276</td>\n",
              "    </tr>\n",
              "    <tr>\n",
              "      <th>Avg Daily Profile Clicks</th>\n",
              "      <td>0.145151</td>\n",
              "    </tr>\n",
              "    <tr>\n",
              "      <th>Num of Profile Likes</th>\n",
              "      <td>1.000000</td>\n",
              "    </tr>\n",
              "  </tbody>\n",
              "</table>\n",
              "</div>"
            ],
            "text/plain": [
              "                                             Num of Profile Likes\n",
              "URL                                                     -0.165150\n",
              "profile_create_sec                                      -0.060728\n",
              "Is Profile View Size Customized?                        -0.049112\n",
              "profile_theme_g                                         -0.033078\n",
              "User Time Zone                                          -0.029241\n",
              "profile_theme_b                                         -0.028640\n",
              "profile_page_r                                          -0.026620\n",
              "profile_page_b                                          -0.025728\n",
              "profile_theme_r                                         -0.025128\n",
              "profile_page_g                                          -0.025106\n",
              "profile_text_g                                          -0.024983\n",
              "profile_text_b                                          -0.018857\n",
              "Avg Daily Profile Visit Duration in seconds             -0.010651\n",
              "Num of Followers                                        -0.009628\n",
              "User Language                                           -0.008645\n",
              "Profile Cover Image Status                              -0.008131\n",
              "Num of Direct Messages                                  -0.000513\n",
              "profile_text_r                                           0.028941\n",
              "Num of Status Updates                                    0.043182\n",
              "Location Public Visibility                               0.075806\n",
              "Profile Category                                         0.087298\n",
              "Profile Verification Status                              0.090158\n",
              "Num of People Following                                  0.123276\n",
              "Avg Daily Profile Clicks                                 0.145151\n",
              "Num of Profile Likes                                     1.000000"
            ]
          },
          "metadata": {
            "tags": []
          },
          "execution_count": 291
        }
      ]
    },
    {
      "cell_type": "code",
      "metadata": {
        "id": "TDP6LuofWxPl"
      },
      "source": [
        "'''\n",
        "cols_x = ['URL',\n",
        "          'Profile Cover Image Status',\n",
        "          'Profile Verification Status',\n",
        "          'Is Profile View Size Customized?',\n",
        "          'Location Public Visibility', \n",
        "          'User Language', \n",
        "          'profile_create_sec', \n",
        "          'Num of Followers', \n",
        "          'Num of People Following', \n",
        "          'Num of Status Updates', \n",
        "          'Num of Direct Messages',\n",
        "          'Profile Category',\n",
        "          'Avg Daily Profile Visit Duration in seconds', \n",
        "          'Avg Daily Profile Clicks', \n",
        "          'profile_text_r', \n",
        "          'profile_text_g', \n",
        "          'profile_text_b', \n",
        "          'profile_page_r', \n",
        "          'profile_page_g', \n",
        "          'profile_page_b', \n",
        "          'profile_theme_r', \n",
        "          'profile_theme_g', \n",
        "          'profile_theme_b' \n",
        "          ]'''\n",
        "cols_x = ['URL',\n",
        "          #'Profile Cover Image Status',\n",
        "          'Profile Verification Status',\n",
        "          #'Is Profile View Size Customized?',\n",
        "          'Location Public Visibility', \n",
        "          'User Language', \n",
        "          'profile_create_sec', \n",
        "          #'User Time Zone',\n",
        "          #'Num of Followers', \n",
        "          'Num of People Following', \n",
        "          'Num of Status Updates', \n",
        "          'Num of Direct Messages',\n",
        "          'Profile Category',\n",
        "          'Avg Daily Profile Visit Duration in seconds', \n",
        "          'Avg Daily Profile Clicks', \n",
        "          #'profile_text_r', \n",
        "          #'profile_text_g', \n",
        "          #'profile_text_b', \n",
        "          #'profile_page_r', \n",
        "          #'profile_page_g', \n",
        "          #'profile_page_b', \n",
        "          #'profile_theme_r', \n",
        "          #'profile_theme_g', \n",
        "          #'profile_theme_b' \n",
        "          ]\n",
        "cols_y = 'Num of Profile Likes'"
      ],
      "execution_count": 397,
      "outputs": []
    },
    {
      "cell_type": "code",
      "metadata": {
        "id": "3LQa4SqRxU5W"
      },
      "source": [
        "# frequency encoding\r\n",
        "# Color: Frequency Encoding (~1900 colors, they have different encodings)\r\n",
        "# User Time Zone: frequency encoding (duplicate feature with UTC-offset)\r\n",
        "# User Language: frequency encoding (28 unique)\r\n",
        "def trans_freq(x_freq,x_freq_col):\r\n",
        "  for name in x_freq.columns:\r\n",
        "    if name in x_freq_col:\r\n",
        "      fe = x_freq.groupby(name).size()/len(x_freq)\r\n",
        "      x_freq.loc[:, name] = x_freq[name].map(fe)\r\n",
        "    \r\n",
        "  return x_freq "
      ],
      "execution_count": 293,
      "outputs": []
    },
    {
      "cell_type": "code",
      "metadata": {
        "id": "wBpXAsMn_HSJ"
      },
      "source": [
        "x = train_df_p[cols_x]\r\n",
        "y = train_df_p[cols_y]"
      ],
      "execution_count": 294,
      "outputs": []
    },
    {
      "cell_type": "code",
      "metadata": {
        "colab": {
          "base_uri": "https://localhost:8080/",
          "height": 337
        },
        "id": "j2S1GVm_CEzP",
        "outputId": "766c0c3d-2d5b-4b50-ee43-6af8e73e3edc"
      },
      "source": [
        "sns.boxplot(x= np.log(y+1))\r\n",
        "Q1 = np.log(y+1).quantile(0.25)\r\n",
        "Q3 = np.log(y+1).quantile(0.75)\r\n",
        "IQR = Q3-Q1\r\n",
        "IQR = Q3-Q1\r\n",
        "print(IQR)\r\n",
        "\r\n",
        "lowerlimit = Q1- 1.5*IQR\r\n",
        "higherlimit = Q3+ 1.5*IQR\r\n",
        "print(lowerlimit)\r\n",
        "print(higherlimit)\r\n",
        "\r\n"
      ],
      "execution_count": 295,
      "outputs": [
        {
          "output_type": "stream",
          "text": [
            "3.137463595788179\n",
            "0.6397188173470356\n",
            "13.189573200499751\n"
          ],
          "name": "stdout"
        },
        {
          "output_type": "display_data",
          "data": {
            "image/png": "[encoded data removed]",
            "text/plain": [
              "<Figure size 432x288 with 1 Axes>"
            ]
          },
          "metadata": {
            "tags": []
          }
        }
      ]
    },
    {
      "cell_type": "code",
      "metadata": {
        "id": "NgD6-xL49vCt"
      },
      "source": [
        "outliers = train_df_p[(np.log(y+1)<= lowerlimit) | (np.log(y+1)>= higherlimit)]"
      ],
      "execution_count": 296,
      "outputs": []
    },
    {
      "cell_type": "code",
      "metadata": {
        "colab": {
          "base_uri": "https://localhost:8080/",
          "height": 761
        },
        "id": "nfotCWLaeIhj",
        "outputId": "a2d026ed-6163-4fb9-c23e-9631eabc8be6"
      },
      "source": [
        "corrmat = outliers.corr()\r\n",
        "plt.subplots(figsize=(12,9))\r\n",
        "sns.heatmap(corrmat, vmax=0.9)\r\n",
        "plt.show()"
      ],
      "execution_count": 297,
      "outputs": [
        {
          "output_type": "display_data",
          "data": {
            "image/png": "[encoded data removed]",
            "text/plain": [
              "<Figure size 864x648 with 2 Axes>"
            ]
          },
          "metadata": {
            "tags": []
          }
        }
      ]
    },
    {
      "cell_type": "code",
      "metadata": {
        "colab": {
          "base_uri": "https://localhost:8080/",
          "height": 797
        },
        "id": "A27kOAeWbgU0",
        "outputId": "09edf41f-c29b-4842-a03d-ab6bcfa92ea9"
      },
      "source": [
        "pd.DataFrame(corrmat['Num of Profile Likes']).sort_values(by=['Num of Profile Likes'])"
      ],
      "execution_count": 298,
      "outputs": [
        {
          "output_type": "execute_result",
          "data": {
            "text/html": [
              "<div>\n",
              "<style scoped>\n",
              "    .dataframe tbody tr th:only-of-type {\n",
              "        vertical-align: middle;\n",
              "    }\n",
              "\n",
              "    .dataframe tbody tr th {\n",
              "        vertical-align: top;\n",
              "    }\n",
              "\n",
              "    .dataframe thead th {\n",
              "        text-align: right;\n",
              "    }\n",
              "</style>\n",
              "<table border=\"1\" class=\"dataframe\">\n",
              "  <thead>\n",
              "    <tr style=\"text-align: right;\">\n",
              "      <th></th>\n",
              "      <th>Num of Profile Likes</th>\n",
              "    </tr>\n",
              "  </thead>\n",
              "  <tbody>\n",
              "    <tr>\n",
              "      <th>Profile Category</th>\n",
              "      <td>-0.037632</td>\n",
              "    </tr>\n",
              "    <tr>\n",
              "      <th>Is Profile View Size Customized?</th>\n",
              "      <td>-0.028030</td>\n",
              "    </tr>\n",
              "    <tr>\n",
              "      <th>Num of Direct Messages</th>\n",
              "      <td>-0.012773</td>\n",
              "    </tr>\n",
              "    <tr>\n",
              "      <th>Num of Status Updates</th>\n",
              "      <td>-0.010816</td>\n",
              "    </tr>\n",
              "    <tr>\n",
              "      <th>Num of People Following</th>\n",
              "      <td>-0.008480</td>\n",
              "    </tr>\n",
              "    <tr>\n",
              "      <th>Num of Followers</th>\n",
              "      <td>-0.005405</td>\n",
              "    </tr>\n",
              "    <tr>\n",
              "      <th>Avg Daily Profile Visit Duration in seconds</th>\n",
              "      <td>0.002904</td>\n",
              "    </tr>\n",
              "    <tr>\n",
              "      <th>profile_text_b</th>\n",
              "      <td>0.013833</td>\n",
              "    </tr>\n",
              "    <tr>\n",
              "      <th>profile_page_r</th>\n",
              "      <td>0.020321</td>\n",
              "    </tr>\n",
              "    <tr>\n",
              "      <th>profile_page_g</th>\n",
              "      <td>0.022029</td>\n",
              "    </tr>\n",
              "    <tr>\n",
              "      <th>profile_text_g</th>\n",
              "      <td>0.027641</td>\n",
              "    </tr>\n",
              "    <tr>\n",
              "      <th>profile_page_b</th>\n",
              "      <td>0.028893</td>\n",
              "    </tr>\n",
              "    <tr>\n",
              "      <th>Profile Cover Image Status</th>\n",
              "      <td>0.028982</td>\n",
              "    </tr>\n",
              "    <tr>\n",
              "      <th>URL</th>\n",
              "      <td>0.030555</td>\n",
              "    </tr>\n",
              "    <tr>\n",
              "      <th>profile_create_sec</th>\n",
              "      <td>0.035204</td>\n",
              "    </tr>\n",
              "    <tr>\n",
              "      <th>profile_theme_b</th>\n",
              "      <td>0.053974</td>\n",
              "    </tr>\n",
              "    <tr>\n",
              "      <th>profile_theme_g</th>\n",
              "      <td>0.059655</td>\n",
              "    </tr>\n",
              "    <tr>\n",
              "      <th>Profile Verification Status</th>\n",
              "      <td>0.061277</td>\n",
              "    </tr>\n",
              "    <tr>\n",
              "      <th>User Time Zone</th>\n",
              "      <td>0.069491</td>\n",
              "    </tr>\n",
              "    <tr>\n",
              "      <th>profile_theme_r</th>\n",
              "      <td>0.070728</td>\n",
              "    </tr>\n",
              "    <tr>\n",
              "      <th>Avg Daily Profile Clicks</th>\n",
              "      <td>0.078334</td>\n",
              "    </tr>\n",
              "    <tr>\n",
              "      <th>User Language</th>\n",
              "      <td>0.099682</td>\n",
              "    </tr>\n",
              "    <tr>\n",
              "      <th>Location Public Visibility</th>\n",
              "      <td>0.115221</td>\n",
              "    </tr>\n",
              "    <tr>\n",
              "      <th>profile_text_r</th>\n",
              "      <td>0.127479</td>\n",
              "    </tr>\n",
              "    <tr>\n",
              "      <th>Num of Profile Likes</th>\n",
              "      <td>1.000000</td>\n",
              "    </tr>\n",
              "  </tbody>\n",
              "</table>\n",
              "</div>"
            ],
            "text/plain": [
              "                                             Num of Profile Likes\n",
              "Profile Category                                        -0.037632\n",
              "Is Profile View Size Customized?                        -0.028030\n",
              "Num of Direct Messages                                  -0.012773\n",
              "Num of Status Updates                                   -0.010816\n",
              "Num of People Following                                 -0.008480\n",
              "Num of Followers                                        -0.005405\n",
              "Avg Daily Profile Visit Duration in seconds              0.002904\n",
              "profile_text_b                                           0.013833\n",
              "profile_page_r                                           0.020321\n",
              "profile_page_g                                           0.022029\n",
              "profile_text_g                                           0.027641\n",
              "profile_page_b                                           0.028893\n",
              "Profile Cover Image Status                               0.028982\n",
              "URL                                                      0.030555\n",
              "profile_create_sec                                       0.035204\n",
              "profile_theme_b                                          0.053974\n",
              "profile_theme_g                                          0.059655\n",
              "Profile Verification Status                              0.061277\n",
              "User Time Zone                                           0.069491\n",
              "profile_theme_r                                          0.070728\n",
              "Avg Daily Profile Clicks                                 0.078334\n",
              "User Language                                            0.099682\n",
              "Location Public Visibility                               0.115221\n",
              "profile_text_r                                           0.127479\n",
              "Num of Profile Likes                                     1.000000"
            ]
          },
          "metadata": {
            "tags": []
          },
          "execution_count": 298
        }
      ]
    },
    {
      "cell_type": "code",
      "metadata": {
        "colab": {
          "base_uri": "https://localhost:8080/",
          "height": 302
        },
        "id": "BlXD8yt1i81s",
        "outputId": "e0a9b343-2f87-48ae-a133-f4576ca58a65"
      },
      "source": [
        "dataplot = train_df_p.copy()\r\n",
        "dataplot[cols_y] = np.log1p(dataplot[cols_y])\r\n",
        "\r\n",
        "sns.histplot(x=cols_y,data= dataplot, hue='Location Public Visibility' , multiple=\"dodge\")"
      ],
      "execution_count": 300,
      "outputs": [
        {
          "output_type": "execute_result",
          "data": {
            "text/plain": [
              "<matplotlib.axes._subplots.AxesSubplot at 0x7faa5c7d7cc0>"
            ]
          },
          "metadata": {
            "tags": []
          },
          "execution_count": 300
        },
        {
          "output_type": "display_data",
          "data": {
            "image/png": "[encoded data removed]",
            "text/plain": [
              "<Figure size 432x288 with 1 Axes>"
            ]
          },
          "metadata": {
            "tags": []
          }
        }
      ]
    },
    {
      "cell_type": "code",
      "metadata": {
        "colab": {
          "base_uri": "https://localhost:8080/"
        },
        "id": "UEa9fq-jbpTO",
        "outputId": "754744f0-23ca-4f72-e44a-15ea9da855d1"
      },
      "source": [
        "train_df_p[cols_y]"
      ],
      "execution_count": 301,
      "outputs": [
        {
          "output_type": "execute_result",
          "data": {
            "text/plain": [
              "0       2815.0\n",
              "1       1242.0\n",
              "2       1559.0\n",
              "3       6342.0\n",
              "4       1078.0\n",
              "         ...  \n",
              "7495    1373.0\n",
              "7496    1407.0\n",
              "7497    1235.0\n",
              "7498    1105.0\n",
              "7499     375.0\n",
              "Name: Num of Profile Likes, Length: 7500, dtype: float64"
            ]
          },
          "metadata": {
            "tags": []
          },
          "execution_count": 301
        }
      ]
    },
    {
      "cell_type": "code",
      "metadata": {
        "id": "O7Dcy9nCvnFd"
      },
      "source": [
        "x = train_df_p[cols_x]\n",
        "y = train_df_p[cols_y]\n",
        "\n",
        "# split dataset to train and test\n",
        "X_train, X_test, y_train, y_test = train_test_split(x, y, test_size=0.1, shuffle=True, random_state=76) #  To guarantee that the split will always be the same \n",
        "\n",
        "#one hot encoding + log transformation\n",
        "X_train_dum = pd.get_dummies(X_train)\n",
        "X_test_dum = pd.get_dummies(X_test)\n",
        "\n",
        "y_train_log = np.log1p(y_train)\n",
        "y_test_log = np.log1p(y_test)\n",
        "\n",
        "freq_col = [\n",
        "            #'profile_text_r', \n",
        "            #'profile_text_g', \n",
        "            #'profile_text_b', \n",
        "            #'profile_page_r', \n",
        "            #'profile_page_g', \n",
        "            #'profile_page_b', \n",
        "            #'profile_theme_r', \n",
        "            #'profile_theme_g', \n",
        "            #'profile_theme_b', \n",
        "            #'profile_create_sec',\n",
        "            #'Num of Followers',                          \n",
        "            #'Num of People Following'   ,                      \n",
        "            #'Num of Status Updates'   ,                         \n",
        "            #'Num of Direct Messages'  ,                                \n",
        "            ##'Avg Daily Profile Visit Duration in seconds',     \n",
        "            #'Avg Daily Profile Clicks',\n",
        "            'profile_create_sec'\n",
        "            ]\n",
        "\n",
        "# frequency encoding\n",
        "X_train_freq= trans_freq(X_train.copy(), freq_col)\n",
        "X_test_freq= trans_freq(X_test.copy(), freq_col)\n",
        "\n",
        "#再整理出一组标准化的数据，通过对比可以看出模型的效果有没有提高\n",
        "from sklearn.preprocessing import MaxAbsScaler\n",
        "scale_x=QuantileTransformer(n_quantiles=10, random_state=67)\n",
        "#x1=scale_x.fit_transform(x)\n",
        "#scale_y=StandardScaler()\n",
        "#y=np.array(y).reshape(-1,1)\n",
        "#y1=scale_y.fit_transform(y)\n",
        "#y1=y1.ravel()\n",
        "X_train1= scale_x.fit_transform(X_train)\n",
        "X_test1 = scale_x.fit_transform(X_test)\n",
        "#y_train1 = scale_y.fit_transform(np.array(y_train).reshape(-1,1)).ravel()\n",
        "#y_test1 = scale_y.fit_transform(np.array(y_test).reshape(-1,1)).ravel()"
      ],
      "execution_count": 399,
      "outputs": []
    },
    {
      "cell_type": "markdown",
      "metadata": {
        "id": "BRwnr1kZpnzU"
      },
      "source": [
        "PCA not better #poly 7.11, PCA 6.39"
      ]
    },
    {
      "cell_type": "code",
      "metadata": {
        "id": "2tyLqkH8WxPl"
      },
      "source": [
        "result = pd.DataFrame(columns = (\"Regression\",\"Training\",\"Testing\"))\n",
        "regression, train_scores, test_scores = [],[],[]"
      ],
      "execution_count": 392,
      "outputs": []
    },
    {
      "cell_type": "code",
      "metadata": {
        "colab": {
          "base_uri": "https://localhost:8080/"
        },
        "id": "2HMsKknZcIPl",
        "outputId": "09a305bc-1e08-4f0f-eceb-d19f5482a74f"
      },
      "source": [
        "estimator = XGBRegressor(booster= 'gbtree',\r\n",
        "                              learning_rate= 0.1, max_depth=3, min_child_weight= 3, \r\n",
        "                              n_estimators= 150) \r\n",
        "#PolynomialFeatures(2),\r\n",
        "model = make_pipeline( estimator)\r\n",
        "model.fit(X_train_dum, y_train_log)\r\n",
        "ypred = model.predict(X_test_dum)\r\n",
        "ypred_original=np.exp(ypred) -1\r\n",
        "ypred_original = np.around(np.maximum(ypred_original, 0))\r\n",
        "\r\n",
        "print(mean_squared_log_error(y_test,ypred_original))"
      ],
      "execution_count": 364,
      "outputs": [
        {
          "output_type": "stream",
          "text": [
            "[20:15:47] WARNING: /workspace/src/objective/regression_obj.cu:152: reg:linear is now deprecated in favor of reg:squarederror.\n",
            "2.8535102920948163\n"
          ],
          "name": "stdout"
        }
      ]
    },
    {
      "cell_type": "code",
      "metadata": {
        "id": "9MDWOOwM98BR",
        "colab": {
          "base_uri": "https://localhost:8080/"
        },
        "outputId": "3aec0a95-bc06-40fc-fdac-d24afdca8a30"
      },
      "source": [
        "\n",
        "model.fit(X_train1,y_train_log)\n",
        "ypred = model.predict(X_test1)\n",
        "ypred_original=np.exp(ypred)-1\n",
        "ypred_original = np.around(np.maximum(ypred_original, 0))\n",
        "\n",
        "print(mean_squared_log_error( y_test, ypred_original))\n"
      ],
      "execution_count": 365,
      "outputs": [
        {
          "output_type": "stream",
          "text": [
            "[20:15:52] WARNING: /workspace/src/objective/regression_obj.cu:152: reg:linear is now deprecated in favor of reg:squarederror.\n",
            "2.8791921318915494\n"
          ],
          "name": "stdout"
        }
      ]
    },
    {
      "cell_type": "markdown",
      "metadata": {
        "id": "kipI11Rf_RHV"
      },
      "source": [
        ""
      ]
    },
    {
      "cell_type": "code",
      "metadata": {
        "colab": {
          "base_uri": "https://localhost:8080/"
        },
        "id": "hiVHJuf5uotR",
        "outputId": "164a6fbe-7c2b-489b-f2b9-b876fe7c54bd"
      },
      "source": [
        "  models=[LinearRegression(),\n",
        "          KNeighborsRegressor(),\n",
        "          SVR(),\n",
        "          Ridge(),\n",
        "          Lasso(),\n",
        "          MLPRegressor(hidden_layer_sizes=(6, 4, 2,2),  activation='relu', solver='lbfgs', alpha=200, batch_size='auto',learning_rate='adaptive', learning_rate_init=0.0001, power_t=0.8, max_iter=5000, shuffle=True,random_state=67, tol=0.0001, verbose=False, warm_start=False, momentum=0.9, nesterovs_momentum=True,early_stopping=True,beta_1=0.9, beta_2=0.9, epsilon=1e-08),\n",
        "          DecisionTreeRegressor(),\n",
        "          ExtraTreeRegressor(),\n",
        "          RandomForestRegressor(n_estimators=100,random_state=67),\n",
        "          AdaBoostRegressor(),\n",
        "          GradientBoostingRegressor(),\n",
        "          BaggingRegressor(n_estimators=100) ,\n",
        "          XGBRegressor(booster= 'gbtree',\n",
        "                              learning_rate= 0.1, max_depth=3, min_child_weight= 3, \n",
        "                              n_estimators= 150) \n",
        "          ]\n",
        "  models_str=['LinearRegression','KNNRegressor','SVR','Ridge','Lasso','MLPRegressor','DecisionTree','ExtraTree',\n",
        "              'RandomForest','AdaBoost','GradientBoost','Bagging','XGBRegressor', 'TheilSenRegressor','RANSACRegressor','HuberRegressor']\n",
        "  score_adapt=[]\n",
        "  for name,estimator in zip(models_str,models):\n",
        "\n",
        "    try:\n",
        "          print('---------------------------------')\n",
        "          #if name in ['LinearRegression','Ridge','ExtraTree']:   \n",
        "          print('开始训练模型：'+name+' 平滑处理')\n",
        "          model = make_pipeline(PolynomialFeatures(3), estimator)\n",
        "          model.fit(X_train_dum,y_train_log)\n",
        "          y_pred_log=model.predict(X_test_dum)   \n",
        "          ypred_original=np.exp(y_pred_log) -1\n",
        "          ypred_original = np.around(np.maximum(ypred_original, 0))\n",
        "\n",
        "          print(name +' rmsle:',np.sqrt(mean_squared_log_error(y_test, ypred_original)))\n",
        "    except:\n",
        "          print(print(\"Unexpected error:\", sys.exc_info()[0]))\n",
        "    \n",
        "    try:\n",
        "          print('---------------------------------')  \n",
        "          #elif name in ['SVR','MLPRegressor','Bagging','AdaBoost','KNNRegressor']:\n",
        "          print('开始训练模型：'+name+' 标准化处理')\n",
        "          model = make_pipeline(PolynomialFeatures(3), estimator)    \n",
        "          model.fit(X_train1,y_train_log)\n",
        "          y_pred1=model.predict(X_test1)\n",
        "          ypred_original=np.exp(y_pred1) -1\n",
        "          #ypred_original=scale_y.inverse_transform(y_pred1.reshape(-1, 1)).ravel()\n",
        "          ypred_original = np.around(np.maximum(ypred_original, 0))\n",
        "    \n",
        "          \n",
        "          print(name +' rmsle:',np.sqrt((mean_squared_log_error(y_test, ypred_original))))\n",
        "\n",
        "    except:\n",
        "          print(print(\"Unexpected error:\", sys.exc_info()[0]))\n",
        "    '''\n",
        "    try:  \n",
        "          print('---------------------------------')      \n",
        "          print('开始训练模型：'+name+' 频率')\n",
        "         \n",
        "          model.fit(X_train_freq,y_train_log)\n",
        "          y_pred_log=model.predict(X_test_freq)\n",
        "          ypred_original=np.exp(y_pred_log) \n",
        "          ypred_original = np.around(np.maximum(ypred_original, 0))\n",
        "          score_adapt.append(str(score)[:5])    \n",
        "          print(name +' msle:'+str(mean_squared_log_error(y_test, ypred_original)))\n",
        "\n",
        "         \n",
        "    except:\n",
        "          print(print(\"Unexpected error:\", sys.exc_info()[0]))\n",
        "    try:    \n",
        "          print('---------------------------------') \n",
        "          print('开始训练模型：'+name+' 普通')\n",
        "         \n",
        "          model.fit(X_train,y_train)\n",
        "          y_pred = model.predict(X_test)\n",
        "          y_pred = np.around(np.maximum(y_pred, 0))\n",
        "          score=model.score(X_test,y_test)\n",
        "          score_adapt.append(str(score)[:5])   \n",
        "          print(name +' msle:'+str(mean_squared_log_error(y_test, y_pred)))\n",
        "\n",
        "          print('---------------------------------')\n",
        "    except:\n",
        "          print(print(\"Unexpected error:\", sys.exc_info()[0]))\n",
        "    '''"
      ],
      "execution_count": 402,
      "outputs": [
        {
          "output_type": "stream",
          "text": [
            "---------------------------------\n",
            "开始训练模型：LinearRegression 平滑处理\n",
            "LinearRegression rmsle: 2.293030058566997\n",
            "---------------------------------\n",
            "开始训练模型：LinearRegression 标准化处理\n",
            "LinearRegression rmsle: 1.742655679522089\n",
            "---------------------------------\n",
            "开始训练模型：KNNRegressor 平滑处理\n",
            "KNNRegressor rmsle: 2.6839759229767517\n",
            "---------------------------------\n",
            "开始训练模型：KNNRegressor 标准化处理\n",
            "KNNRegressor rmsle: 1.8974723374659392\n",
            "---------------------------------\n",
            "开始训练模型：SVR 平滑处理\n",
            "SVR rmsle: 2.5340326791075\n",
            "---------------------------------\n",
            "开始训练模型：SVR 标准化处理\n",
            "SVR rmsle: 1.7881992718970332\n",
            "---------------------------------\n",
            "开始训练模型：Ridge 平滑处理\n",
            "Unexpected error: <class 'ValueError'>\n",
            "None\n",
            "---------------------------------\n",
            "开始训练模型：Ridge 标准化处理\n",
            "Ridge rmsle: 1.7281576524189552\n",
            "---------------------------------\n",
            "开始训练模型：Lasso 平滑处理\n"
          ],
          "name": "stdout"
        },
        {
          "output_type": "stream",
          "text": [
            "/usr/local/lib/python3.6/dist-packages/sklearn/linear_model/_ridge.py:148: LinAlgWarning: Ill-conditioned matrix (rcond=1.41987e-57): result may not be accurate.\n",
            "  overwrite_a=True).T\n",
            "/usr/local/lib/python3.6/dist-packages/ipykernel_launcher.py:29: RuntimeWarning: overflow encountered in exp\n",
            "/usr/local/lib/python3.6/dist-packages/sklearn/linear_model/_coordinate_descent.py:476: ConvergenceWarning: Objective did not converge. You might want to increase the number of iterations. Duality gap: 12437.14824517435, tolerance: 4.446535211806862\n",
            "  positive)\n"
          ],
          "name": "stderr"
        },
        {
          "output_type": "stream",
          "text": [
            "Lasso rmsle: 2.0549581480153027\n",
            "---------------------------------\n",
            "开始训练模型：Lasso 标准化处理\n",
            "Lasso rmsle: 2.5312903654059027\n",
            "---------------------------------\n",
            "开始训练模型：MLPRegressor 平滑处理\n",
            "MLPRegressor rmsle: 2.5312903654059027\n",
            "---------------------------------\n",
            "开始训练模型：MLPRegressor 标准化处理\n",
            "MLPRegressor rmsle: 1.7395995769363934\n",
            "---------------------------------\n",
            "开始训练模型：DecisionTree 平滑处理\n",
            "DecisionTree rmsle: 2.4302423944006715\n",
            "---------------------------------\n",
            "开始训练模型：DecisionTree 标准化处理\n",
            "DecisionTree rmsle: 2.6024737302144474\n",
            "---------------------------------\n",
            "开始训练模型：ExtraTree 平滑处理\n",
            "ExtraTree rmsle: 2.5794196175592\n",
            "---------------------------------\n",
            "开始训练模型：ExtraTree 标准化处理\n",
            "ExtraTree rmsle: 2.5205910850732676\n",
            "---------------------------------\n",
            "开始训练模型：RandomForest 平滑处理\n",
            "RandomForest rmsle: 1.6983750131028463\n",
            "---------------------------------\n",
            "开始训练模型：RandomForest 标准化处理\n",
            "RandomForest rmsle: 1.7425812671826029\n",
            "---------------------------------\n",
            "开始训练模型：AdaBoost 平滑处理\n",
            "AdaBoost rmsle: 2.0498084237450183\n",
            "---------------------------------\n",
            "开始训练模型：AdaBoost 标准化处理\n",
            "AdaBoost rmsle: 2.1871286015833054\n",
            "---------------------------------\n",
            "开始训练模型：GradientBoost 平滑处理\n",
            "GradientBoost rmsle: 1.6852841098061362\n",
            "---------------------------------\n",
            "开始训练模型：GradientBoost 标准化处理\n",
            "GradientBoost rmsle: 1.6832250587100952\n",
            "---------------------------------\n",
            "开始训练模型：Bagging 平滑处理\n",
            "Bagging rmsle: 1.704892264824545\n",
            "---------------------------------\n",
            "开始训练模型：Bagging 标准化处理\n",
            "Bagging rmsle: 1.7499907443611933\n",
            "---------------------------------\n",
            "开始训练模型：XGBRegressor 平滑处理\n",
            "[03:36:13] WARNING: /workspace/src/objective/regression_obj.cu:152: reg:linear is now deprecated in favor of reg:squarederror.\n",
            "XGBRegressor rmsle: 1.6893980766344092\n",
            "---------------------------------\n",
            "开始训练模型：XGBRegressor 标准化处理\n",
            "[03:36:29] WARNING: /workspace/src/objective/regression_obj.cu:152: reg:linear is now deprecated in favor of reg:squarederror.\n",
            "XGBRegressor rmsle: 1.6810170566131357\n"
          ],
          "name": "stdout"
        }
      ]
    },
    {
      "cell_type": "code",
      "metadata": {
        "id": "5psPD2h60xzx"
      },
      "source": [
        "import xgboost as xgb"
      ],
      "execution_count": 330,
      "outputs": []
    },
    {
      "cell_type": "code",
      "metadata": {
        "id": "Xa9XpJEUnLYl"
      },
      "source": [
        "x = train_df_p[cols_x]\r\n",
        "y = train_df_p[cols_y]\r\n",
        "train_df_visible = train_df_p[train_df_p['Location Public Visibility'] >0]\r\n",
        "train_df_invisible = train_df_p[train_df_p['Location Public Visibility'] <=0]\r\n",
        "x_visible = train_df_visible[cols_x]\r\n",
        "x_visible.drop(columns=['Location Public Visibility'])\r\n",
        "y_visible = train_df_visible[cols_y]\r\n",
        "x_invisible = train_df_invisible[cols_x]\r\n",
        "x_invisible.drop(columns=['Location Public Visibility'])\r\n",
        "y_invisible = train_df_invisible[cols_y]"
      ],
      "execution_count": 369,
      "outputs": []
    },
    {
      "cell_type": "code",
      "metadata": {
        "id": "b8Ewxx_7us8h"
      },
      "source": [
        "gdboost = GradientBoostingRegressor( loss = 'ls',n_estimators=150) #loss : {'ls', 'lad', 'huber', 'quantile'}, optional (default='ls')\n",
        "#mlp = MLPRegressor(hidden_layer_sizes=(6, 4, 2,2),  activation='relu', solver='lbfgs', alpha=200, batch_size='auto',learning_rate='adaptive', learning_rate_init=0.0001, power_t=0.8, max_iter=5000, shuffle=True,random_state=67, tol=0.0001, verbose=False, warm_start=False, momentum=0.9, nesterovs_momentum=True,early_stopping=True,beta_1=0.9, beta_2=0.9, epsilon=1e-08)\n",
        "         \n",
        "#model = xgb.XGBRegressor(booster= 'gbtree',learning_rate= 0.1, max_depth=3, min_child_weight= 3,  n_estimators= 150) \n",
        "model = make_pipeline(gdboost)\n"
      ],
      "execution_count": 371,
      "outputs": []
    },
    {
      "cell_type": "code",
      "metadata": {
        "colab": {
          "base_uri": "https://localhost:8080/"
        },
        "id": "n6WbNGKfs6wn",
        "outputId": "2efe39bb-6941-4886-812d-9bfc34ac56bc"
      },
      "source": [
        "from sklearn.model_selection import train_test_split\n",
        "from sklearn.model_selection import GridSearchCV\n",
        "from sklearn.metrics import classification_report\n",
        "from sklearn.model_selection import KFold\n",
        "\n",
        "# Set the parameters by cross-validation\n",
        "tuned_parameters = [{\n",
        "  'loss': ['ls', 'lad', 'huber', 'quantile'],\n",
        "  'max_features':['auto', 'sqrt', 'log2']}\n",
        "]\n",
        "\n",
        "metric = 'neg_root_mean_squared_error'\n",
        "\n",
        "cv_strategy = KFold(n_splits=10, shuffle=True)\n",
        "\n",
        "grid_search = GridSearchCV(\n",
        "    gdboost, tuned_parameters, scoring=metric, cv=cv_strategy\n",
        ")\n",
        "grid_search.fit(X_train_dum, y_train_log);\n",
        "print('Finished!')"
      ],
      "execution_count": null,
      "outputs": [
        {
          "output_type": "stream",
          "text": [
            "Finished!\n"
          ],
          "name": "stdout"
        }
      ]
    },
    {
      "cell_type": "code",
      "metadata": {
        "colab": {
          "base_uri": "https://localhost:8080/"
        },
        "id": "1TFwmTon2UiV",
        "outputId": "7546579f-7456-4f06-94a9-805dae927114"
      },
      "source": [
        "print(\"Best parameters set found on development set:\")\n",
        "print()\n",
        "print(grid_search.best_params_)"
      ],
      "execution_count": null,
      "outputs": [
        {
          "output_type": "stream",
          "text": [
            "Best parameters set found on development set:\n",
            "\n",
            "{'loss': 'ls', 'max_features': 'auto'}\n"
          ],
          "name": "stdout"
        }
      ]
    },
    {
      "cell_type": "code",
      "metadata": {
        "colab": {
          "base_uri": "https://localhost:8080/",
          "height": 440
        },
        "id": "CwK1cBxvoXks",
        "outputId": "49eaebc9-4089-4cb3-bf3b-5ec76e2d78c9"
      },
      "source": [
        "test_df_visible = test_df_p[test_df_p['Location Public Visibility'] >0]\r\n",
        "test_df_invisible = test_df_p[test_df_p['Location Public Visibility'] <=0]\r\n",
        "test_visible = test_df_visible[cols_x]\r\n",
        "test_visible.drop(columns=['Location Public Visibility'])\r\n",
        "test_invisible = test_df_invisible[cols_x]\r\n",
        "test_visible.drop(columns=['Location Public Visibility'])"
      ],
      "execution_count": 373,
      "outputs": [
        {
          "output_type": "execute_result",
          "data": {
            "text/html": [
              "<div>\n",
              "<style scoped>\n",
              "    .dataframe tbody tr th:only-of-type {\n",
              "        vertical-align: middle;\n",
              "    }\n",
              "\n",
              "    .dataframe tbody tr th {\n",
              "        vertical-align: top;\n",
              "    }\n",
              "\n",
              "    .dataframe thead th {\n",
              "        text-align: right;\n",
              "    }\n",
              "</style>\n",
              "<table border=\"1\" class=\"dataframe\">\n",
              "  <thead>\n",
              "    <tr style=\"text-align: right;\">\n",
              "      <th></th>\n",
              "      <th>URL</th>\n",
              "      <th>Profile Verification Status</th>\n",
              "      <th>User Language</th>\n",
              "      <th>profile_create_sec</th>\n",
              "      <th>Num of People Following</th>\n",
              "      <th>Num of Status Updates</th>\n",
              "      <th>Num of Direct Messages</th>\n",
              "      <th>Profile Category</th>\n",
              "      <th>Avg Daily Profile Visit Duration in seconds</th>\n",
              "      <th>Avg Daily Profile Clicks</th>\n",
              "    </tr>\n",
              "  </thead>\n",
              "  <tbody>\n",
              "    <tr>\n",
              "      <th>7500</th>\n",
              "      <td>0.0</td>\n",
              "      <td>0.0</td>\n",
              "      <td>4</td>\n",
              "      <td>1.248124e+09</td>\n",
              "      <td>2148</td>\n",
              "      <td>12926</td>\n",
              "      <td>469</td>\n",
              "      <td>1.0</td>\n",
              "      <td>13.827</td>\n",
              "      <td>3.4062</td>\n",
              "    </tr>\n",
              "    <tr>\n",
              "      <th>7501</th>\n",
              "      <td>0.0</td>\n",
              "      <td>0.0</td>\n",
              "      <td>4</td>\n",
              "      <td>1.249511e+09</td>\n",
              "      <td>262</td>\n",
              "      <td>11678</td>\n",
              "      <td>1806</td>\n",
              "      <td>3.0</td>\n",
              "      <td>24.019</td>\n",
              "      <td>3.2656</td>\n",
              "    </tr>\n",
              "    <tr>\n",
              "      <th>7502</th>\n",
              "      <td>1.0</td>\n",
              "      <td>2.0</td>\n",
              "      <td>4</td>\n",
              "      <td>1.300473e+09</td>\n",
              "      <td>392</td>\n",
              "      <td>9395</td>\n",
              "      <td>59247</td>\n",
              "      <td>0.0</td>\n",
              "      <td>26.011</td>\n",
              "      <td>12.1619</td>\n",
              "    </tr>\n",
              "    <tr>\n",
              "      <th>7504</th>\n",
              "      <td>1.0</td>\n",
              "      <td>0.0</td>\n",
              "      <td>4</td>\n",
              "      <td>1.338839e+09</td>\n",
              "      <td>1701</td>\n",
              "      <td>1022</td>\n",
              "      <td>8</td>\n",
              "      <td>0.0</td>\n",
              "      <td>17.878</td>\n",
              "      <td>3.9660</td>\n",
              "    </tr>\n",
              "    <tr>\n",
              "      <th>7507</th>\n",
              "      <td>0.0</td>\n",
              "      <td>2.0</td>\n",
              "      <td>4</td>\n",
              "      <td>1.229995e+09</td>\n",
              "      <td>1983</td>\n",
              "      <td>20568</td>\n",
              "      <td>2097</td>\n",
              "      <td>1.0</td>\n",
              "      <td>21.966</td>\n",
              "      <td>2.5306</td>\n",
              "    </tr>\n",
              "    <tr>\n",
              "      <th>...</th>\n",
              "      <td>...</td>\n",
              "      <td>...</td>\n",
              "      <td>...</td>\n",
              "      <td>...</td>\n",
              "      <td>...</td>\n",
              "      <td>...</td>\n",
              "      <td>...</td>\n",
              "      <td>...</td>\n",
              "      <td>...</td>\n",
              "      <td>...</td>\n",
              "    </tr>\n",
              "    <tr>\n",
              "      <th>9992</th>\n",
              "      <td>0.0</td>\n",
              "      <td>0.0</td>\n",
              "      <td>6</td>\n",
              "      <td>1.300337e+09</td>\n",
              "      <td>3289</td>\n",
              "      <td>5805</td>\n",
              "      <td>43</td>\n",
              "      <td>0.0</td>\n",
              "      <td>12.441</td>\n",
              "      <td>2.9135</td>\n",
              "    </tr>\n",
              "    <tr>\n",
              "      <th>9993</th>\n",
              "      <td>0.0</td>\n",
              "      <td>2.0</td>\n",
              "      <td>5</td>\n",
              "      <td>1.248220e+09</td>\n",
              "      <td>2295</td>\n",
              "      <td>8047</td>\n",
              "      <td>1061</td>\n",
              "      <td>0.0</td>\n",
              "      <td>38.455</td>\n",
              "      <td>7.3366</td>\n",
              "    </tr>\n",
              "    <tr>\n",
              "      <th>9994</th>\n",
              "      <td>0.0</td>\n",
              "      <td>2.0</td>\n",
              "      <td>4</td>\n",
              "      <td>1.293576e+09</td>\n",
              "      <td>992</td>\n",
              "      <td>32182</td>\n",
              "      <td>2563</td>\n",
              "      <td>1.0</td>\n",
              "      <td>26.346</td>\n",
              "      <td>3.3590</td>\n",
              "    </tr>\n",
              "    <tr>\n",
              "      <th>9996</th>\n",
              "      <td>0.0</td>\n",
              "      <td>0.0</td>\n",
              "      <td>4</td>\n",
              "      <td>1.216154e+09</td>\n",
              "      <td>5833</td>\n",
              "      <td>17282</td>\n",
              "      <td>912</td>\n",
              "      <td>3.0</td>\n",
              "      <td>13.185</td>\n",
              "      <td>1.8277</td>\n",
              "    </tr>\n",
              "    <tr>\n",
              "      <th>9997</th>\n",
              "      <td>0.0</td>\n",
              "      <td>0.0</td>\n",
              "      <td>18</td>\n",
              "      <td>1.311255e+09</td>\n",
              "      <td>838</td>\n",
              "      <td>52308</td>\n",
              "      <td>727</td>\n",
              "      <td>1.0</td>\n",
              "      <td>22.497</td>\n",
              "      <td>7.1340</td>\n",
              "    </tr>\n",
              "  </tbody>\n",
              "</table>\n",
              "<p>1509 rows × 10 columns</p>\n",
              "</div>"
            ],
            "text/plain": [
              "      URL  ...  Avg Daily Profile Clicks\n",
              "7500  0.0  ...                    3.4062\n",
              "7501  0.0  ...                    3.2656\n",
              "7502  1.0  ...                   12.1619\n",
              "7504  1.0  ...                    3.9660\n",
              "7507  0.0  ...                    2.5306\n",
              "...   ...  ...                       ...\n",
              "9992  0.0  ...                    2.9135\n",
              "9993  0.0  ...                    7.3366\n",
              "9994  0.0  ...                    3.3590\n",
              "9996  0.0  ...                    1.8277\n",
              "9997  0.0  ...                    7.1340\n",
              "\n",
              "[1509 rows x 10 columns]"
            ]
          },
          "metadata": {
            "tags": []
          },
          "execution_count": 373
        }
      ]
    },
    {
      "cell_type": "code",
      "metadata": {
        "id": "WSO-uolnnkLD"
      },
      "source": [
        ""
      ],
      "execution_count": 339,
      "outputs": []
    },
    {
      "cell_type": "code",
      "metadata": {
        "colab": {
          "base_uri": "https://localhost:8080/"
        },
        "id": "8qY97ULgrUqn",
        "outputId": "b2b9b474-2ca3-41fb-a4e2-d7b045add125"
      },
      "source": [
        "y_visible"
      ],
      "execution_count": 374,
      "outputs": [
        {
          "output_type": "execute_result",
          "data": {
            "text/plain": [
              "0       2815.0\n",
              "1       1242.0\n",
              "2       1559.0\n",
              "3       6342.0\n",
              "4       1078.0\n",
              "         ...  \n",
              "7493    4836.0\n",
              "7494     387.0\n",
              "7496    1407.0\n",
              "7497    1235.0\n",
              "7498    1105.0\n",
              "Name: Num of Profile Likes, Length: 4355, dtype: float64"
            ]
          },
          "metadata": {
            "tags": []
          },
          "execution_count": 374
        }
      ]
    },
    {
      "cell_type": "code",
      "metadata": {
        "id": "IsHmxFgw3s-G"
      },
      "source": [
        "x_dum = pd.get_dummies(x_visible)\r\n",
        "y_log = np.log(y_visible+1)\r\n",
        "model.fit(x_dum,y_log)\r\n",
        "test_dum =  pd.get_dummies( test_visible)\r\n",
        "\r\n",
        "predict_test = model.predict(test_dum)\r\n",
        "ypred_original=np.exp(predict_test) -1\r\n",
        "predict_visible = np.around(np.maximum(ypred_original, 0))"
      ],
      "execution_count": 375,
      "outputs": []
    },
    {
      "cell_type": "code",
      "metadata": {
        "colab": {
          "base_uri": "https://localhost:8080/"
        },
        "id": "M74-QaoUqEvi",
        "outputId": "c798268a-3dcb-49d0-e735-322d71f995ae"
      },
      "source": [
        "predict_visible"
      ],
      "execution_count": 376,
      "outputs": [
        {
          "output_type": "execute_result",
          "data": {
            "text/plain": [
              "array([4839., 2744.,  189., ..., 5641., 4113., 3589.])"
            ]
          },
          "metadata": {
            "tags": []
          },
          "execution_count": 376
        }
      ]
    },
    {
      "cell_type": "code",
      "metadata": {
        "id": "MxZ9J_fdq8FU"
      },
      "source": [
        "\r\n",
        "predict_visible_out = pd.DataFrame(test_df_visible['Id'])\r\n",
        "\r\n",
        "# Make predictions\r\n",
        "predict_visible_out['Predicted'] =  predict_visible"
      ],
      "execution_count": 377,
      "outputs": []
    },
    {
      "cell_type": "code",
      "metadata": {
        "colab": {
          "base_uri": "https://localhost:8080/",
          "height": 406
        },
        "id": "3KhmbFdqpy37",
        "outputId": "e73b0e9e-847c-4474-e73c-e93c1280b643"
      },
      "source": [
        "predict_visible_out"
      ],
      "execution_count": 378,
      "outputs": [
        {
          "output_type": "execute_result",
          "data": {
            "text/html": [
              "<div>\n",
              "<style scoped>\n",
              "    .dataframe tbody tr th:only-of-type {\n",
              "        vertical-align: middle;\n",
              "    }\n",
              "\n",
              "    .dataframe tbody tr th {\n",
              "        vertical-align: top;\n",
              "    }\n",
              "\n",
              "    .dataframe thead th {\n",
              "        text-align: right;\n",
              "    }\n",
              "</style>\n",
              "<table border=\"1\" class=\"dataframe\">\n",
              "  <thead>\n",
              "    <tr style=\"text-align: right;\">\n",
              "      <th></th>\n",
              "      <th>Id</th>\n",
              "      <th>Predicted</th>\n",
              "    </tr>\n",
              "  </thead>\n",
              "  <tbody>\n",
              "    <tr>\n",
              "      <th>7500</th>\n",
              "      <td>49I3SOKLI2CMNGP4</td>\n",
              "      <td>4839.0</td>\n",
              "    </tr>\n",
              "    <tr>\n",
              "      <th>7501</th>\n",
              "      <td>727IRIR59A3P88LK</td>\n",
              "      <td>2744.0</td>\n",
              "    </tr>\n",
              "    <tr>\n",
              "      <th>7502</th>\n",
              "      <td>LN95SD15SRPCEE8F</td>\n",
              "      <td>189.0</td>\n",
              "    </tr>\n",
              "    <tr>\n",
              "      <th>7504</th>\n",
              "      <td>32PSGCK5PATHMR07</td>\n",
              "      <td>100.0</td>\n",
              "    </tr>\n",
              "    <tr>\n",
              "      <th>7507</th>\n",
              "      <td>AI23CE9L10CFLK8N</td>\n",
              "      <td>9514.0</td>\n",
              "    </tr>\n",
              "    <tr>\n",
              "      <th>...</th>\n",
              "      <td>...</td>\n",
              "      <td>...</td>\n",
              "    </tr>\n",
              "    <tr>\n",
              "      <th>9992</th>\n",
              "      <td>H4QQHDFPE7QP0B76</td>\n",
              "      <td>3124.0</td>\n",
              "    </tr>\n",
              "    <tr>\n",
              "      <th>9993</th>\n",
              "      <td>BRFRG477P9S6MMQ2</td>\n",
              "      <td>5131.0</td>\n",
              "    </tr>\n",
              "    <tr>\n",
              "      <th>9994</th>\n",
              "      <td>0HRQG5NRLP0KDHNK</td>\n",
              "      <td>5641.0</td>\n",
              "    </tr>\n",
              "    <tr>\n",
              "      <th>9996</th>\n",
              "      <td>PRT8RDNG6E86518P</td>\n",
              "      <td>4113.0</td>\n",
              "    </tr>\n",
              "    <tr>\n",
              "      <th>9997</th>\n",
              "      <td>SRNIBIK27BQ2M3PB</td>\n",
              "      <td>3589.0</td>\n",
              "    </tr>\n",
              "  </tbody>\n",
              "</table>\n",
              "<p>1509 rows × 2 columns</p>\n",
              "</div>"
            ],
            "text/plain": [
              "                    Id  Predicted\n",
              "7500  49I3SOKLI2CMNGP4     4839.0\n",
              "7501  727IRIR59A3P88LK     2744.0\n",
              "7502  LN95SD15SRPCEE8F      189.0\n",
              "7504  32PSGCK5PATHMR07      100.0\n",
              "7507  AI23CE9L10CFLK8N     9514.0\n",
              "...                ...        ...\n",
              "9992  H4QQHDFPE7QP0B76     3124.0\n",
              "9993  BRFRG477P9S6MMQ2     5131.0\n",
              "9994  0HRQG5NRLP0KDHNK     5641.0\n",
              "9996  PRT8RDNG6E86518P     4113.0\n",
              "9997  SRNIBIK27BQ2M3PB     3589.0\n",
              "\n",
              "[1509 rows x 2 columns]"
            ]
          },
          "metadata": {
            "tags": []
          },
          "execution_count": 378
        }
      ]
    },
    {
      "cell_type": "code",
      "metadata": {
        "id": "O4pV-VfgVJlB"
      },
      "source": [
        "x_dum = pd.get_dummies(x_invisible)\r\n",
        "y_log = np.log(y_invisible+1)\r\n",
        "model.fit(x_dum,y_log)\r\n",
        "test_dum =  pd.get_dummies(test_invisible)\r\n",
        "\r\n",
        "predict_test = model.predict(test_dum)\r\n",
        "ypred_original=np.exp(predict_test) -1\r\n",
        "predict_invisible = np.around(np.maximum(ypred_original, 0))"
      ],
      "execution_count": 379,
      "outputs": []
    },
    {
      "cell_type": "code",
      "metadata": {
        "colab": {
          "base_uri": "https://localhost:8080/"
        },
        "id": "MwlwsbKawPes",
        "outputId": "fefb218b-341b-4732-f516-c153dc43228e"
      },
      "source": [
        "len(predict_invisible)"
      ],
      "execution_count": 356,
      "outputs": [
        {
          "output_type": "execute_result",
          "data": {
            "text/plain": [
              "991"
            ]
          },
          "metadata": {
            "tags": []
          },
          "execution_count": 356
        }
      ]
    },
    {
      "cell_type": "code",
      "metadata": {
        "id": "fsAAA1sPp9yC"
      },
      "source": [
        "\r\n",
        "predict_invisible_out = pd.DataFrame(test_df_invisible['Id'])\r\n",
        "\r\n",
        "# Make predictions\r\n",
        "predict_invisible_out['Predicted'] =  predict_invisible"
      ],
      "execution_count": 381,
      "outputs": []
    },
    {
      "cell_type": "code",
      "metadata": {
        "colab": {
          "base_uri": "https://localhost:8080/",
          "height": 406
        },
        "id": "k1RvKNOB9IGf",
        "outputId": "6119d00b-0b52-40de-8cff-c6b0e9c6d2c0"
      },
      "source": [
        "predict_invisible_out"
      ],
      "execution_count": 382,
      "outputs": [
        {
          "output_type": "execute_result",
          "data": {
            "text/html": [
              "<div>\n",
              "<style scoped>\n",
              "    .dataframe tbody tr th:only-of-type {\n",
              "        vertical-align: middle;\n",
              "    }\n",
              "\n",
              "    .dataframe tbody tr th {\n",
              "        vertical-align: top;\n",
              "    }\n",
              "\n",
              "    .dataframe thead th {\n",
              "        text-align: right;\n",
              "    }\n",
              "</style>\n",
              "<table border=\"1\" class=\"dataframe\">\n",
              "  <thead>\n",
              "    <tr style=\"text-align: right;\">\n",
              "      <th></th>\n",
              "      <th>Id</th>\n",
              "      <th>Predicted</th>\n",
              "    </tr>\n",
              "  </thead>\n",
              "  <tbody>\n",
              "    <tr>\n",
              "      <th>7503</th>\n",
              "      <td>TB11I7F0PN033D4T</td>\n",
              "      <td>6366.0</td>\n",
              "    </tr>\n",
              "    <tr>\n",
              "      <th>7505</th>\n",
              "      <td>KCGC12BK5PGHP4SO</td>\n",
              "      <td>1628.0</td>\n",
              "    </tr>\n",
              "    <tr>\n",
              "      <th>7506</th>\n",
              "      <td>SE7SP9PNCS9H4RKL</td>\n",
              "      <td>31.0</td>\n",
              "    </tr>\n",
              "    <tr>\n",
              "      <th>7508</th>\n",
              "      <td>MC4LR1DKGGEL4C4C</td>\n",
              "      <td>47.0</td>\n",
              "    </tr>\n",
              "    <tr>\n",
              "      <th>7513</th>\n",
              "      <td>EPF30Q5AAPONR3R9</td>\n",
              "      <td>327.0</td>\n",
              "    </tr>\n",
              "    <tr>\n",
              "      <th>...</th>\n",
              "      <td>...</td>\n",
              "      <td>...</td>\n",
              "    </tr>\n",
              "    <tr>\n",
              "      <th>9987</th>\n",
              "      <td>7SD7S81PCH8TT8O8</td>\n",
              "      <td>523.0</td>\n",
              "    </tr>\n",
              "    <tr>\n",
              "      <th>9989</th>\n",
              "      <td>C4GAI1ONF5N0THR5</td>\n",
              "      <td>3283.0</td>\n",
              "    </tr>\n",
              "    <tr>\n",
              "      <th>9995</th>\n",
              "      <td>7SDJE48EFRPPNEJK</td>\n",
              "      <td>238.0</td>\n",
              "    </tr>\n",
              "    <tr>\n",
              "      <th>9998</th>\n",
              "      <td>6CP232J9R8N84702</td>\n",
              "      <td>846.0</td>\n",
              "    </tr>\n",
              "    <tr>\n",
              "      <th>9999</th>\n",
              "      <td>AROR24MH3M79EHBS</td>\n",
              "      <td>204.0</td>\n",
              "    </tr>\n",
              "  </tbody>\n",
              "</table>\n",
              "<p>991 rows × 2 columns</p>\n",
              "</div>"
            ],
            "text/plain": [
              "                    Id  Predicted\n",
              "7503  TB11I7F0PN033D4T     6366.0\n",
              "7505  KCGC12BK5PGHP4SO     1628.0\n",
              "7506  SE7SP9PNCS9H4RKL       31.0\n",
              "7508  MC4LR1DKGGEL4C4C       47.0\n",
              "7513  EPF30Q5AAPONR3R9      327.0\n",
              "...                ...        ...\n",
              "9987  7SD7S81PCH8TT8O8      523.0\n",
              "9989  C4GAI1ONF5N0THR5     3283.0\n",
              "9995  7SDJE48EFRPPNEJK      238.0\n",
              "9998  6CP232J9R8N84702      846.0\n",
              "9999  AROR24MH3M79EHBS      204.0\n",
              "\n",
              "[991 rows x 2 columns]"
            ]
          },
          "metadata": {
            "tags": []
          },
          "execution_count": 382
        }
      ]
    },
    {
      "cell_type": "code",
      "metadata": {
        "id": "iTl0P89zqMbG"
      },
      "source": [
        "out = pd.concat((predict_visible_out, predict_invisible_out))"
      ],
      "execution_count": 383,
      "outputs": []
    },
    {
      "cell_type": "code",
      "metadata": {
        "colab": {
          "base_uri": "https://localhost:8080/",
          "height": 406
        },
        "id": "OjWVbNYyWxPl",
        "outputId": "3006ea07-4eaa-43df-9f0b-a638677e753b"
      },
      "source": [
        "# Check output\n",
        "out"
      ],
      "execution_count": 384,
      "outputs": [
        {
          "output_type": "execute_result",
          "data": {
            "text/html": [
              "<div>\n",
              "<style scoped>\n",
              "    .dataframe tbody tr th:only-of-type {\n",
              "        vertical-align: middle;\n",
              "    }\n",
              "\n",
              "    .dataframe tbody tr th {\n",
              "        vertical-align: top;\n",
              "    }\n",
              "\n",
              "    .dataframe thead th {\n",
              "        text-align: right;\n",
              "    }\n",
              "</style>\n",
              "<table border=\"1\" class=\"dataframe\">\n",
              "  <thead>\n",
              "    <tr style=\"text-align: right;\">\n",
              "      <th></th>\n",
              "      <th>Id</th>\n",
              "      <th>Predicted</th>\n",
              "    </tr>\n",
              "  </thead>\n",
              "  <tbody>\n",
              "    <tr>\n",
              "      <th>7500</th>\n",
              "      <td>49I3SOKLI2CMNGP4</td>\n",
              "      <td>4839.0</td>\n",
              "    </tr>\n",
              "    <tr>\n",
              "      <th>7501</th>\n",
              "      <td>727IRIR59A3P88LK</td>\n",
              "      <td>2744.0</td>\n",
              "    </tr>\n",
              "    <tr>\n",
              "      <th>7502</th>\n",
              "      <td>LN95SD15SRPCEE8F</td>\n",
              "      <td>189.0</td>\n",
              "    </tr>\n",
              "    <tr>\n",
              "      <th>7504</th>\n",
              "      <td>32PSGCK5PATHMR07</td>\n",
              "      <td>100.0</td>\n",
              "    </tr>\n",
              "    <tr>\n",
              "      <th>7507</th>\n",
              "      <td>AI23CE9L10CFLK8N</td>\n",
              "      <td>9514.0</td>\n",
              "    </tr>\n",
              "    <tr>\n",
              "      <th>...</th>\n",
              "      <td>...</td>\n",
              "      <td>...</td>\n",
              "    </tr>\n",
              "    <tr>\n",
              "      <th>9987</th>\n",
              "      <td>7SD7S81PCH8TT8O8</td>\n",
              "      <td>523.0</td>\n",
              "    </tr>\n",
              "    <tr>\n",
              "      <th>9989</th>\n",
              "      <td>C4GAI1ONF5N0THR5</td>\n",
              "      <td>3283.0</td>\n",
              "    </tr>\n",
              "    <tr>\n",
              "      <th>9995</th>\n",
              "      <td>7SDJE48EFRPPNEJK</td>\n",
              "      <td>238.0</td>\n",
              "    </tr>\n",
              "    <tr>\n",
              "      <th>9998</th>\n",
              "      <td>6CP232J9R8N84702</td>\n",
              "      <td>846.0</td>\n",
              "    </tr>\n",
              "    <tr>\n",
              "      <th>9999</th>\n",
              "      <td>AROR24MH3M79EHBS</td>\n",
              "      <td>204.0</td>\n",
              "    </tr>\n",
              "  </tbody>\n",
              "</table>\n",
              "<p>2500 rows × 2 columns</p>\n",
              "</div>"
            ],
            "text/plain": [
              "                    Id  Predicted\n",
              "7500  49I3SOKLI2CMNGP4     4839.0\n",
              "7501  727IRIR59A3P88LK     2744.0\n",
              "7502  LN95SD15SRPCEE8F      189.0\n",
              "7504  32PSGCK5PATHMR07      100.0\n",
              "7507  AI23CE9L10CFLK8N     9514.0\n",
              "...                ...        ...\n",
              "9987  7SD7S81PCH8TT8O8      523.0\n",
              "9989  C4GAI1ONF5N0THR5     3283.0\n",
              "9995  7SDJE48EFRPPNEJK      238.0\n",
              "9998  6CP232J9R8N84702      846.0\n",
              "9999  AROR24MH3M79EHBS      204.0\n",
              "\n",
              "[2500 rows x 2 columns]"
            ]
          },
          "metadata": {
            "tags": []
          },
          "execution_count": 384
        }
      ]
    },
    {
      "cell_type": "code",
      "metadata": {
        "id": "WciX9ywsWxPl"
      },
      "source": [
        "# Save output\n",
        "out.to_csv('predictions.csv', index=False)"
      ],
      "execution_count": 386,
      "outputs": []
    },
    {
      "cell_type": "markdown",
      "metadata": {
        "id": "RIXbi0q7BcDd"
      },
      "source": [
        "----------------------------------------------------------------------"
      ]
    },
    {
      "cell_type": "markdown",
      "metadata": {
        "id": "qv914cdVFpwu"
      },
      "source": [
        "# Feature Engineering Ideas\n",
        "- Color: Convert 16-digit Hex Code to 0-255, Separate Columns RR-GG-BB, then will have numeric features\n",
        "- Color: Frequency Encoding (~1900 colors, they have different encodings)\n",
        "- User Time Zone: frequency encoding (duplicate feature with UTC-offset)\n",
        "- User Language: frequency encoding (28 unique)\n",
        "- Profile Creation Timestamp: convert to long numeric (the year matters)"
      ]
    },
    {
      "cell_type": "markdown",
      "metadata": {
        "id": "Ctq0opgIS2N2"
      },
      "source": [
        "# Comp550 Project Ideas\n",
        "- https://www.kaggle.com/c/jigsaw-unintended-bias-in-toxicity-classification/data\n",
        "- https://www.kaggle.com/c/quora-insincere-questions-classification/overview"
      ]
    },
    {
      "cell_type": "code",
      "metadata": {
        "id": "o5LTCMVJgjbV"
      },
      "source": [
        "import torch\r\n",
        "import torch.nn as nn\r\n",
        "import torch.nn.functional as F\r\n",
        "\r\n",
        "class MultiLabelNN(nn.Module):\r\n",
        "    def __init__(self):\r\n",
        "      super(MultiLabelNN, self).__init__()\r\n",
        "      self.conv1 = nn.Conv2d(3, 64, 5)\r\n",
        "      self.pool = nn.MaxPool2d(2, 2)\r\n",
        "      self.conv2 = nn.Conv2d(64, 16, 5)\r\n",
        "      self.fc1 = nn.Linear(3200,1024)\r\n",
        "      self.fc2 = nn.Linear(1024, 512)\r\n",
        "      self.fc3 = nn.Linear(512, 1)\r\n",
        "\r\n",
        "    def forward(self, x):\r\n",
        "       #shape of x is (b_s, 32,32,1)\r\n",
        "      x = self.conv1(x) #shape of x is (b_s, 28,28,132)\r\n",
        "      x = F.leaky_relu(x)\r\n",
        "      x = self.pool(x) #shape of x now becomes (b_s X 14 x 14 x 32)\r\n",
        "      x = self.conv2(x) # shape(b_s, 10x10x64)\r\n",
        "      x = F.leaky_relu(x)#size is (b_s x 10 x 10 x 64)\r\n",
        "      x = x.view(-1, 3200) # shape of x is now(b_s*2, 3200)\r\n",
        "      #print(x.size())\r\n",
        "       #this is the problem \r\n",
        "       #you can fc1 to be of shape (6400,1024) and that will work \r\n",
        "      x = self.fc1(x)\r\n",
        "      x = self.fc2(x)\r\n",
        "      x = F.leaky_relu(x)\r\n",
        "      x = self.fc3(x)\r\n",
        "      #print(x)\r\n",
        "      return x  "
      ],
      "execution_count": 157,
      "outputs": []
    },
    {
      "cell_type": "code",
      "metadata": {
        "id": "34-4MXYEHW8T"
      },
      "source": [
        "import ntpath\r\n",
        "def path_leaf(path):\r\n",
        "    head, tail = ntpath.split(path)\r\n",
        "    return tail or ntpath.basename(head)"
      ],
      "execution_count": 88,
      "outputs": []
    },
    {
      "cell_type": "code",
      "metadata": {
        "id": "igSR49ArFdDO"
      },
      "source": [
        "from torch.utils.data import Dataset, DataLoader\r\n",
        "from multiprocessing import Pool\r\n",
        "from torchvision.datasets.folder import pil_loader\r\n",
        "\r\n",
        "class ImageFolderInMemory(Dataset):\r\n",
        "    \"\"\"\r\n",
        "    This class loads the data provided and stores it entirely in memory as a dataset.\r\n",
        "\r\n",
        "    It makes use of torchvision.datasets.ImageFolder() to create a dataset. Afterward all images are\r\n",
        "    sequentially stored in memory for faster use when paired with dataloders. It is responsibility of\r\n",
        "    the user ensuring that the dataset actually fits in memory.\r\n",
        "    \"\"\"\r\n",
        "\r\n",
        "    def __init__(self, path, transform=None, target_transform=None, workers=1):\r\n",
        "        \"\"\"\r\n",
        "        Load the data in memory and prepares it as a dataset.\r\n",
        "\r\n",
        "        Parameters\r\n",
        "        ----------\r\n",
        "        path : string\r\n",
        "            Path to the dataset on the file System\r\n",
        "        transform : torchvision.transforms\r\n",
        "            Transformation to apply on the data\r\n",
        "        target_transform : torchvision.transforms\r\n",
        "            Transformation to apply on the labels\r\n",
        "        workers: int\r\n",
        "            Number of workers to use for the dataloaders\r\n",
        "        \"\"\"\r\n",
        "        self.dataset_folder = os.path.expanduser(path)\r\n",
        "        self.transform = transform\r\n",
        "        self.target_transform = target_transform\r\n",
        "\r\n",
        "        # Get an online dataset\r\n",
        "        dataset = torchvision.datasets.ImageFolder(path)\r\n",
        "\r\n",
        "        # Shuffle the data once (otherwise you get clusters of samples of same class in each minibatch for val and test)\r\n",
        "        np.random.shuffle(dataset.imgs)\r\n",
        "\r\n",
        "        # Extract the actual file names and labels as entries\r\n",
        "        file_names = np.asarray([item[0] for item in dataset.imgs])\r\n",
        "        filename = [path_leaf(path) for path in file_names]\r\n",
        "        self.labels = train_df[train_df['Profile Image'].isin(filename)][cols_y]\r\n",
        "\r\n",
        "        # Load all samples\r\n",
        "        pool = Pool(workers)\r\n",
        "        self.data = pool.map(pil_loader, file_names)\r\n",
        "        pool.close()\r\n",
        "\r\n",
        "        # Set expected class attributes\r\n",
        "        self.classes = np.unique(self.labels)\r\n",
        "\r\n",
        "    def __getitem__(self, index):\r\n",
        "        \"\"\"\r\n",
        "        Retrieve a sample by index\r\n",
        "\r\n",
        "        Parameters\r\n",
        "        ----------\r\n",
        "        index : int\r\n",
        "\r\n",
        "        Returns\r\n",
        "        -------\r\n",
        "        img : FloatTensor\r\n",
        "        target : int\r\n",
        "            label of the image\r\n",
        "        \"\"\"\r\n",
        "\r\n",
        "        img, target = self.data[index], self.labels[index]\r\n",
        "\r\n",
        "        if self.transform is not None:\r\n",
        "            img = self.transform(img)\r\n",
        "        if self.target_transform is not None:\r\n",
        "            target = self.target_transform(target)\r\n",
        "\r\n",
        "        return img, target\r\n",
        "\r\n",
        "    def __len__(self):\r\n",
        "        return len(self.data)"
      ],
      "execution_count": 147,
      "outputs": []
    },
    {
      "cell_type": "code",
      "metadata": {
        "id": "ZAHj4Te88KjR"
      },
      "source": [
        "!mv /content/test_profile_images/profile_images_test/*.png /content/test_profile_images/profile_images_test/test"
      ],
      "execution_count": 43,
      "outputs": []
    },
    {
      "cell_type": "code",
      "metadata": {
        "id": "5nRarH-JyzcF",
        "colab": {
          "base_uri": "https://localhost:8080/",
          "height": 1000
        },
        "outputId": "c257d862-238e-4b72-ef25-bd78685b0ae9"
      },
      "source": [
        "import torch.optim as optim\r\n",
        "from torchvision import transforms\r\n",
        "import torchvision\r\n",
        "\r\n",
        "transform = transforms.Compose(\r\n",
        "   [transforms.ToTensor(),\r\n",
        "    transforms.Normalize((0.5, 0.5, 0.5), (0.5, 0.5, 0.5))])\r\n",
        "\r\n",
        "training = ImageFolderInMemory('/content/train_profile_images/profile_images_train',\r\n",
        "                                         transform=transform)\r\n",
        "testing = ImageFolderInMemory('/content/test_profile_images/profile_images_test/',\r\n",
        "                                         transform=transform)\r\n",
        "train_loader = torch.utils.data.DataLoader(training, batch_size=4,\r\n",
        "                                         shuffle=True, num_workers=2)\r\n",
        "\r\n",
        "test_loader = torch.utils.data.DataLoader(testing, batch_size=4,\r\n",
        "                                        shuffle=False, num_workers=2)\r\n",
        "\r\n",
        "print(training)\r\n",
        "\r\n",
        "model = MultiLabelNN()\r\n",
        "criterion = nn.MSELoss()\r\n",
        "optimizer = optim.Adam(model.parameters(), lr=0.0001)\r\n",
        "\r\n",
        "for epoch in range(10):  # loop over the dataset multiple times\r\n",
        "\r\n",
        "    running_loss = 0.0\r\n",
        "    for i, data in enumerate(train_loader, 0):\r\n",
        "        # get the inputs; data is a list of [inputs, labels]\r\n",
        "        inputs, likes = data\r\n",
        "        likes = likes.float()\r\n",
        "   \r\n",
        "        # zero the parameter gradients\r\n",
        "        optimizer.zero_grad()\r\n",
        "\r\n",
        "        # forward + backward + optimize\r\n",
        "        outputs = model(inputs)\r\n",
        "    \r\n",
        "        loss = criterion(outputs, likes)\r\n",
        "        loss.backward()\r\n",
        "        optimizer.step()\r\n",
        "\r\n",
        "        # print statistics\r\n",
        "        running_loss += loss.item()\r\n",
        "        if i % 100 == 99:    # print every 2000 mini-batches\r\n",
        "            print('[%d, %5d] loss: %.3f' %\r\n",
        "                  (epoch + 1, i + 1, running_loss / 2000))\r\n",
        "            running_loss = 0.0\r\n",
        "\r\n",
        "print('Finished Training')"
      ],
      "execution_count": 158,
      "outputs": [
        {
          "output_type": "stream",
          "text": [
            "<__main__.ImageFolderInMemory object at 0x7faa68b03358>\n"
          ],
          "name": "stdout"
        },
        {
          "output_type": "stream",
          "text": [
            "/usr/local/lib/python3.6/dist-packages/torch/nn/modules/loss.py:446: UserWarning: Using a target size (torch.Size([4])) that is different to the input size (torch.Size([2, 1])). This will likely lead to incorrect results due to broadcasting. Please ensure they have the same size.\n",
            "  return F.mse_loss(input, target, reduction=self.reduction)\n"
          ],
          "name": "stderr"
        },
        {
          "output_type": "stream",
          "text": [
            "[1,   100] loss: 5893713.720\n",
            "[1,   200] loss: 5437974.905\n",
            "[1,   300] loss: 30053444.050\n",
            "[1,   400] loss: 11263039.914\n",
            "[1,   500] loss: 32127513.611\n",
            "[1,   600] loss: 6576762.305\n",
            "[1,   700] loss: 7004439.905\n",
            "[1,   800] loss: 6545000.768\n",
            "[1,   900] loss: 18022973.550\n",
            "[1,  1000] loss: 7463875.158\n",
            "[1,  1100] loss: 42061448.579\n",
            "[1,  1200] loss: 28630408.648\n",
            "[1,  1300] loss: 7725023.956\n",
            "[1,  1400] loss: 18987811.738\n",
            "[1,  1500] loss: 7180979.905\n",
            "[1,  1600] loss: 8001247.542\n",
            "[1,  1700] loss: 3227919.935\n",
            "[1,  1800] loss: 5737755.821\n",
            "[2,   100] loss: 7263098.567\n",
            "[2,   200] loss: 9757359.729\n",
            "[2,   300] loss: 19308365.301\n",
            "[2,   400] loss: 3514245.103\n",
            "[2,   500] loss: 8559363.199\n",
            "[2,   600] loss: 5218995.674\n",
            "[2,   700] loss: 9510697.292\n",
            "[2,   800] loss: 33959231.391\n",
            "[2,   900] loss: 4321524.464\n",
            "[2,  1000] loss: 6140874.672\n",
            "[2,  1100] loss: 55121236.009\n",
            "[2,  1200] loss: 6464680.543\n",
            "[2,  1300] loss: 7726414.353\n",
            "[2,  1400] loss: 20057806.967\n",
            "[2,  1500] loss: 6398495.319\n",
            "[2,  1600] loss: 2324065.384\n",
            "[2,  1700] loss: 21558546.002\n",
            "[2,  1800] loss: 26153627.122\n",
            "[3,   100] loss: 8018748.344\n",
            "[3,   200] loss: 4257037.924\n",
            "[3,   300] loss: 4122167.246\n",
            "[3,   400] loss: 43049975.494\n",
            "[3,   500] loss: 9744062.239\n",
            "[3,   600] loss: 19506755.719\n",
            "[3,   700] loss: 6488732.553\n",
            "[3,   800] loss: 10080086.795\n",
            "[3,   900] loss: 17741177.065\n",
            "[3,  1000] loss: 7575295.469\n",
            "[3,  1100] loss: 34226945.491\n",
            "[3,  1200] loss: 37503017.389\n",
            "[3,  1300] loss: 6125938.760\n",
            "[3,  1400] loss: 5167884.911\n",
            "[3,  1500] loss: 25253100.668\n",
            "[3,  1600] loss: 5161507.577\n",
            "[3,  1700] loss: 4225820.257\n",
            "[3,  1800] loss: 4727223.117\n",
            "[4,   100] loss: 65605801.244\n",
            "[4,   200] loss: 5735724.414\n",
            "[4,   300] loss: 12194637.773\n",
            "[4,   400] loss: 26912606.254\n",
            "[4,   500] loss: 8653401.733\n",
            "[4,   600] loss: 27165872.041\n",
            "[4,   700] loss: 4984315.846\n",
            "[4,   800] loss: 7105777.249\n",
            "[4,   900] loss: 3980719.109\n",
            "[4,  1000] loss: 5342810.181\n",
            "[4,  1100] loss: 4086940.290\n",
            "[4,  1200] loss: 4493687.939\n",
            "[4,  1300] loss: 7864822.604\n",
            "[4,  1400] loss: 4163207.280\n",
            "[4,  1500] loss: 7424579.879\n",
            "[4,  1600] loss: 3203208.430\n",
            "[4,  1700] loss: 28871217.663\n",
            "[4,  1800] loss: 18663394.532\n",
            "[5,   100] loss: 3612857.451\n",
            "[5,   200] loss: 6459514.606\n",
            "[5,   300] loss: 16907460.515\n",
            "[5,   400] loss: 4227582.408\n",
            "[5,   500] loss: 6538479.543\n",
            "[5,   600] loss: 5705492.265\n",
            "[5,   700] loss: 5305524.734\n",
            "[5,   800] loss: 8669832.221\n",
            "[5,   900] loss: 22943629.361\n",
            "[5,  1000] loss: 18243084.745\n",
            "[5,  1100] loss: 4761794.440\n",
            "[5,  1200] loss: 29500267.154\n",
            "[5,  1300] loss: 41021991.640\n",
            "[5,  1400] loss: 7643467.400\n",
            "[5,  1500] loss: 30381390.464\n",
            "[5,  1600] loss: 18450558.288\n",
            "[5,  1700] loss: 9801977.387\n",
            "[5,  1800] loss: 9319373.186\n"
          ],
          "name": "stdout"
        },
        {
          "output_type": "error",
          "ename": "KeyboardInterrupt",
          "evalue": "ignored",
          "traceback": [
            "\u001b[0;31m---------------------------------------------------------------------------\u001b[0m",
            "\u001b[0;31mKeyboardInterrupt\u001b[0m                         Traceback (most recent call last)",
            "\u001b[0;32m<ipython-input-158-104fe9662101>\u001b[0m in \u001b[0;36m<module>\u001b[0;34m()\u001b[0m\n\u001b[1;32m     39\u001b[0m         \u001b[0mloss\u001b[0m \u001b[0;34m=\u001b[0m \u001b[0mcriterion\u001b[0m\u001b[0;34m(\u001b[0m\u001b[0moutputs\u001b[0m\u001b[0;34m,\u001b[0m \u001b[0mlikes\u001b[0m\u001b[0;34m)\u001b[0m\u001b[0;34m\u001b[0m\u001b[0;34m\u001b[0m\u001b[0m\n\u001b[1;32m     40\u001b[0m         \u001b[0mloss\u001b[0m\u001b[0;34m.\u001b[0m\u001b[0mbackward\u001b[0m\u001b[0;34m(\u001b[0m\u001b[0;34m)\u001b[0m\u001b[0;34m\u001b[0m\u001b[0;34m\u001b[0m\u001b[0m\n\u001b[0;32m---> 41\u001b[0;31m         \u001b[0moptimizer\u001b[0m\u001b[0;34m.\u001b[0m\u001b[0mstep\u001b[0m\u001b[0;34m(\u001b[0m\u001b[0;34m)\u001b[0m\u001b[0;34m\u001b[0m\u001b[0;34m\u001b[0m\u001b[0m\n\u001b[0m\u001b[1;32m     42\u001b[0m \u001b[0;34m\u001b[0m\u001b[0m\n\u001b[1;32m     43\u001b[0m         \u001b[0;31m# print statistics\u001b[0m\u001b[0;34m\u001b[0m\u001b[0;34m\u001b[0m\u001b[0;34m\u001b[0m\u001b[0m\n",
            "\u001b[0;32m/usr/local/lib/python3.6/dist-packages/torch/autograd/grad_mode.py\u001b[0m in \u001b[0;36mdecorate_context\u001b[0;34m(*args, **kwargs)\u001b[0m\n\u001b[1;32m     24\u001b[0m         \u001b[0;32mdef\u001b[0m \u001b[0mdecorate_context\u001b[0m\u001b[0;34m(\u001b[0m\u001b[0;34m*\u001b[0m\u001b[0margs\u001b[0m\u001b[0;34m,\u001b[0m \u001b[0;34m**\u001b[0m\u001b[0mkwargs\u001b[0m\u001b[0;34m)\u001b[0m\u001b[0;34m:\u001b[0m\u001b[0;34m\u001b[0m\u001b[0;34m\u001b[0m\u001b[0m\n\u001b[1;32m     25\u001b[0m             \u001b[0;32mwith\u001b[0m \u001b[0mself\u001b[0m\u001b[0;34m.\u001b[0m\u001b[0m__class__\u001b[0m\u001b[0;34m(\u001b[0m\u001b[0;34m)\u001b[0m\u001b[0;34m:\u001b[0m\u001b[0;34m\u001b[0m\u001b[0;34m\u001b[0m\u001b[0m\n\u001b[0;32m---> 26\u001b[0;31m                 \u001b[0;32mreturn\u001b[0m \u001b[0mfunc\u001b[0m\u001b[0;34m(\u001b[0m\u001b[0;34m*\u001b[0m\u001b[0margs\u001b[0m\u001b[0;34m,\u001b[0m \u001b[0;34m**\u001b[0m\u001b[0mkwargs\u001b[0m\u001b[0;34m)\u001b[0m\u001b[0;34m\u001b[0m\u001b[0;34m\u001b[0m\u001b[0m\n\u001b[0m\u001b[1;32m     27\u001b[0m         \u001b[0;32mreturn\u001b[0m \u001b[0mcast\u001b[0m\u001b[0;34m(\u001b[0m\u001b[0mF\u001b[0m\u001b[0;34m,\u001b[0m \u001b[0mdecorate_context\u001b[0m\u001b[0;34m)\u001b[0m\u001b[0;34m\u001b[0m\u001b[0;34m\u001b[0m\u001b[0m\n\u001b[1;32m     28\u001b[0m \u001b[0;34m\u001b[0m\u001b[0m\n",
            "\u001b[0;32m/usr/local/lib/python3.6/dist-packages/torch/optim/adam.py\u001b[0m in \u001b[0;36mstep\u001b[0;34m(self, closure)\u001b[0m\n\u001b[1;32m    117\u001b[0m                    \u001b[0mgroup\u001b[0m\u001b[0;34m[\u001b[0m\u001b[0;34m'lr'\u001b[0m\u001b[0;34m]\u001b[0m\u001b[0;34m,\u001b[0m\u001b[0;34m\u001b[0m\u001b[0;34m\u001b[0m\u001b[0m\n\u001b[1;32m    118\u001b[0m                    \u001b[0mgroup\u001b[0m\u001b[0;34m[\u001b[0m\u001b[0;34m'weight_decay'\u001b[0m\u001b[0;34m]\u001b[0m\u001b[0;34m,\u001b[0m\u001b[0;34m\u001b[0m\u001b[0;34m\u001b[0m\u001b[0m\n\u001b[0;32m--> 119\u001b[0;31m                    \u001b[0mgroup\u001b[0m\u001b[0;34m[\u001b[0m\u001b[0;34m'eps'\u001b[0m\u001b[0;34m]\u001b[0m\u001b[0;34m\u001b[0m\u001b[0;34m\u001b[0m\u001b[0m\n\u001b[0m\u001b[1;32m    120\u001b[0m                    )\n\u001b[1;32m    121\u001b[0m         \u001b[0;32mreturn\u001b[0m \u001b[0mloss\u001b[0m\u001b[0;34m\u001b[0m\u001b[0;34m\u001b[0m\u001b[0m\n",
            "\u001b[0;32m/usr/local/lib/python3.6/dist-packages/torch/optim/functional.py\u001b[0m in \u001b[0;36madam\u001b[0;34m(params, grads, exp_avgs, exp_avg_sqs, max_exp_avg_sqs, state_steps, amsgrad, beta1, beta2, lr, weight_decay, eps)\u001b[0m\n\u001b[1;32m     92\u001b[0m             \u001b[0mdenom\u001b[0m \u001b[0;34m=\u001b[0m \u001b[0;34m(\u001b[0m\u001b[0mmax_exp_avg_sq\u001b[0m\u001b[0;34m.\u001b[0m\u001b[0msqrt\u001b[0m\u001b[0;34m(\u001b[0m\u001b[0;34m)\u001b[0m \u001b[0;34m/\u001b[0m \u001b[0mmath\u001b[0m\u001b[0;34m.\u001b[0m\u001b[0msqrt\u001b[0m\u001b[0;34m(\u001b[0m\u001b[0mbias_correction2\u001b[0m\u001b[0;34m)\u001b[0m\u001b[0;34m)\u001b[0m\u001b[0;34m.\u001b[0m\u001b[0madd_\u001b[0m\u001b[0;34m(\u001b[0m\u001b[0meps\u001b[0m\u001b[0;34m)\u001b[0m\u001b[0;34m\u001b[0m\u001b[0;34m\u001b[0m\u001b[0m\n\u001b[1;32m     93\u001b[0m         \u001b[0;32melse\u001b[0m\u001b[0;34m:\u001b[0m\u001b[0;34m\u001b[0m\u001b[0;34m\u001b[0m\u001b[0m\n\u001b[0;32m---> 94\u001b[0;31m             \u001b[0mdenom\u001b[0m \u001b[0;34m=\u001b[0m \u001b[0;34m(\u001b[0m\u001b[0mexp_avg_sq\u001b[0m\u001b[0;34m.\u001b[0m\u001b[0msqrt\u001b[0m\u001b[0;34m(\u001b[0m\u001b[0;34m)\u001b[0m \u001b[0;34m/\u001b[0m \u001b[0mmath\u001b[0m\u001b[0;34m.\u001b[0m\u001b[0msqrt\u001b[0m\u001b[0;34m(\u001b[0m\u001b[0mbias_correction2\u001b[0m\u001b[0;34m)\u001b[0m\u001b[0;34m)\u001b[0m\u001b[0;34m.\u001b[0m\u001b[0madd_\u001b[0m\u001b[0;34m(\u001b[0m\u001b[0meps\u001b[0m\u001b[0;34m)\u001b[0m\u001b[0;34m\u001b[0m\u001b[0;34m\u001b[0m\u001b[0m\n\u001b[0m\u001b[1;32m     95\u001b[0m \u001b[0;34m\u001b[0m\u001b[0m\n\u001b[1;32m     96\u001b[0m         \u001b[0mstep_size\u001b[0m \u001b[0;34m=\u001b[0m \u001b[0mlr\u001b[0m \u001b[0;34m/\u001b[0m \u001b[0mbias_correction1\u001b[0m\u001b[0;34m\u001b[0m\u001b[0;34m\u001b[0m\u001b[0m\n",
            "\u001b[0;31mKeyboardInterrupt\u001b[0m: "
          ]
        }
      ]
    },
    {
      "cell_type": "code",
      "metadata": {
        "colab": {
          "base_uri": "https://localhost:8080/"
        },
        "id": "gcMna_-vWOUv",
        "outputId": "e7fbaa8e-56f6-44d2-d4eb-d31d5868a748"
      },
      "source": [
        "running_loss"
      ],
      "execution_count": 149,
      "outputs": [
        {
          "output_type": "execute_result",
          "data": {
            "text/plain": [
              "515066890868.875"
            ]
          },
          "metadata": {
            "tags": []
          },
          "execution_count": 149
        }
      ]
    }
  ]
}